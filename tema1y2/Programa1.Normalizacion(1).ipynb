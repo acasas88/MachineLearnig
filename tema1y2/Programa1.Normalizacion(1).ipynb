{
 "cells": [
  {
   "cell_type": "code",
   "execution_count": 1,
   "metadata": {},
   "outputs": [
    {
     "name": "stderr",
     "output_type": "stream",
     "text": [
      "c:\\Users\\acasa\\anaconda3\\lib\\site-packages\\scipy\\__init__.py:146: UserWarning: A NumPy version >=1.16.5 and <1.23.0 is required for this version of SciPy (detected version 1.23.5\n",
      "  warnings.warn(f\"A NumPy version >={np_minversion} and <{np_maxversion}\"\n"
     ]
    }
   ],
   "source": [
    "from sklearn import preprocessing\n",
    "import numpy as np"
   ]
  },
  {
   "cell_type": "code",
   "execution_count": 2,
   "metadata": {},
   "outputs": [
    {
     "name": "stdout",
     "output_type": "stream",
     "text": [
      "[[ 1. -4.  5.]\n",
      " [ 5.  0.  2.]\n",
      " [ 0.  6. -3.]]\n"
     ]
    }
   ],
   "source": [
    "# Carga de datos.\n",
    "X_train = np.array([[ 1., -4.,  5.],\n",
    "                    [ 5.,  0.,  2.],\n",
    "                    [ 0.,  6., -3.]])\n",
    "\n",
    "print(X_train)"
   ]
  },
  {
   "cell_type": "code",
   "execution_count": 3,
   "metadata": {},
   "outputs": [],
   "source": [
    "# Limpieza de datos: normalización.\n",
    "normalizer = preprocessing.MinMaxScaler()\n",
    "X_train_norm = normalizer.fit_transform(X_train)"
   ]
  },
  {
   "cell_type": "code",
   "execution_count": 4,
   "metadata": {},
   "outputs": [
    {
     "name": "stdout",
     "output_type": "stream",
     "text": [
      "[[0.2   0.    1.   ]\n",
      " [1.    0.4   0.625]\n",
      " [0.    1.    0.   ]]\n"
     ]
    }
   ],
   "source": [
    "# Salida de resultados.\n",
    "print(X_train_norm)"
   ]
  },
  {
   "cell_type": "code",
   "execution_count": 5,
   "metadata": {},
   "outputs": [
    {
     "name": "stdout",
     "output_type": "stream",
     "text": [
      "True\n"
     ]
    }
   ],
   "source": [
    "# Ejemplo para ver que los resultados son iguales si aplicamos los métodos \"fit\" y \"transform\" por separado\n",
    "X_train_2 = np.copy(X_train)\n",
    "\n",
    "# Crea un objeto \"fitted_normalizer\" llamando al método \"fit\"\n",
    "f = normalizer.fit(X_train)\n",
    "\n",
    "# Aplica el objeto sobre los datos \"X_train_2\" para obtener \"X_train_norm_2\"\n",
    "X_train_norm_2 = f.transform(X_train)\n",
    "\n",
    "# Comprueba si \"X_train_norm\" y \"X_train_norm_2\" son iguales\n",
    "print(np.array_equiv(X_train_norm, X_train_norm_2))"
   ]
  },
  {
   "cell_type": "code",
   "execution_count": 9,
   "metadata": {},
   "outputs": [
    {
     "data": {
      "text/plain": [
       "array([[0.2  , 0.1  , 0.625],\n",
       "       [0.6  , 0.4  , 0.375],\n",
       "       [0.   , 1.1  , 0.25 ]])"
      ]
     },
     "metadata": {},
     "output_type": "display_data"
    }
   ],
   "source": [
    "# Normalizar un nuevo conjunto de datos de test (SOLO HAY QUE APLICAR EL MÉTODO \"transform\", NO EL \"fit\")\n",
    "X_test = np.array([[ 1., -3.,  2.],\n",
    "                    [ 3.,  0.,  0.],\n",
    "                    [ 0.,  7., -1.]])\n",
    "\n",
    "# Normalizar los datos de \"X_test\"\n",
    "x_train_norm3 = f.transform(X_test)\n",
    "\n",
    "display(x_train_norm3)"
   ]
  }
 ],
 "metadata": {
  "kernelspec": {
   "display_name": "Python 3.9.7 ('base')",
   "language": "python",
   "name": "python3"
  },
  "language_info": {
   "codemirror_mode": {
    "name": "ipython",
    "version": 3
   },
   "file_extension": ".py",
   "mimetype": "text/x-python",
   "name": "python",
   "nbconvert_exporter": "python",
   "pygments_lexer": "ipython3",
   "version": "3.9.7 (default, Sep 16 2021, 16:59:28) [MSC v.1916 64 bit (AMD64)]"
  },
  "vscode": {
   "interpreter": {
    "hash": "9a65927f5967699fcd722c82a9c185cfa0040c4b95e3af20a6eefdab7483f21b"
   }
  }
 },
 "nbformat": 4,
 "nbformat_minor": 2
}
