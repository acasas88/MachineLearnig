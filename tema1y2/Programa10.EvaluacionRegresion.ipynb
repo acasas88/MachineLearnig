{
 "cells": [
  {
   "cell_type": "code",
   "execution_count": 2,
   "metadata": {},
   "outputs": [],
   "source": [
    "import numpy as np\n",
    "from math import sqrt\n",
    "from pprint import pprint\n",
    "from sklearn import datasets\n",
    "from sklearn.dummy import DummyRegressor\n",
    "from sklearn.model_selection import cross_validate\n",
    "from sklearn.model_selection import KFold\n",
    "from sklearn.metrics import make_scorer\n",
    "from sklearn.metrics import mean_squared_error\n",
    "from sklearn.model_selection import train_test_split\n",
    "from sklearn.svm import SVR\n",
    "from sklearn.metrics import mean_absolute_error, r2_score\n",
    "import matplotlib.pyplot as plt\n",
    "from sklearn import preprocessing"
   ]
  },
  {
   "cell_type": "code",
   "execution_count": 3,
   "metadata": {},
   "outputs": [
    {
     "name": "stdout",
     "output_type": "stream",
     "text": [
      "{'DESCR': '.. _boston_dataset:\\n'\n",
      "          '\\n'\n",
      "          'Boston house prices dataset\\n'\n",
      "          '---------------------------\\n'\n",
      "          '\\n'\n",
      "          '**Data Set Characteristics:**  \\n'\n",
      "          '\\n'\n",
      "          '    :Number of Instances: 506 \\n'\n",
      "          '\\n'\n",
      "          '    :Number of Attributes: 13 numeric/categorical predictive. '\n",
      "          'Median Value (attribute 14) is usually the target.\\n'\n",
      "          '\\n'\n",
      "          '    :Attribute Information (in order):\\n'\n",
      "          '        - CRIM     per capita crime rate by town\\n'\n",
      "          '        - ZN       proportion of residential land zoned for lots '\n",
      "          'over 25,000 sq.ft.\\n'\n",
      "          '        - INDUS    proportion of non-retail business acres per '\n",
      "          'town\\n'\n",
      "          '        - CHAS     Charles River dummy variable (= 1 if tract '\n",
      "          'bounds river; 0 otherwise)\\n'\n",
      "          '        - NOX      nitric oxides concentration (parts per 10 '\n",
      "          'million)\\n'\n",
      "          '        - RM       average number of rooms per dwelling\\n'\n",
      "          '        - AGE      proportion of owner-occupied units built prior '\n",
      "          'to 1940\\n'\n",
      "          '        - DIS      weighted distances to five Boston employment '\n",
      "          'centres\\n'\n",
      "          '        - RAD      index of accessibility to radial highways\\n'\n",
      "          '        - TAX      full-value property-tax rate per $10,000\\n'\n",
      "          '        - PTRATIO  pupil-teacher ratio by town\\n'\n",
      "          '        - B        1000(Bk - 0.63)^2 where Bk is the proportion of '\n",
      "          'black people by town\\n'\n",
      "          '        - LSTAT    % lower status of the population\\n'\n",
      "          \"        - MEDV     Median value of owner-occupied homes in $1000's\\n\"\n",
      "          '\\n'\n",
      "          '    :Missing Attribute Values: None\\n'\n",
      "          '\\n'\n",
      "          '    :Creator: Harrison, D. and Rubinfeld, D.L.\\n'\n",
      "          '\\n'\n",
      "          'This is a copy of UCI ML housing dataset.\\n'\n",
      "          'https://archive.ics.uci.edu/ml/machine-learning-databases/housing/\\n'\n",
      "          '\\n'\n",
      "          '\\n'\n",
      "          'This dataset was taken from the StatLib library which is maintained '\n",
      "          'at Carnegie Mellon University.\\n'\n",
      "          '\\n'\n",
      "          'The Boston house-price data of Harrison, D. and Rubinfeld, D.L. '\n",
      "          \"'Hedonic\\n\"\n",
      "          \"prices and the demand for clean air', J. Environ. Economics & \"\n",
      "          'Management,\\n'\n",
      "          \"vol.5, 81-102, 1978.   Used in Belsley, Kuh & Welsch, 'Regression \"\n",
      "          'diagnostics\\n'\n",
      "          \"...', Wiley, 1980.   N.B. Various transformations are used in the \"\n",
      "          'table on\\n'\n",
      "          'pages 244-261 of the latter.\\n'\n",
      "          '\\n'\n",
      "          'The Boston house-price data has been used in many machine learning '\n",
      "          'papers that address regression\\n'\n",
      "          'problems.   \\n'\n",
      "          '     \\n'\n",
      "          '.. topic:: References\\n'\n",
      "          '\\n'\n",
      "          \"   - Belsley, Kuh & Welsch, 'Regression diagnostics: Identifying \"\n",
      "          \"Influential Data and Sources of Collinearity', Wiley, 1980. \"\n",
      "          '244-261.\\n'\n",
      "          '   - Quinlan,R. (1993). Combining Instance-Based and Model-Based '\n",
      "          'Learning. In Proceedings on the Tenth International Conference of '\n",
      "          'Machine Learning, 236-243, University of Massachusetts, Amherst. '\n",
      "          'Morgan Kaufmann.\\n',\n",
      " 'data': array([[6.3200e-03, 1.8000e+01, 2.3100e+00, ..., 1.5300e+01, 3.9690e+02,\n",
      "        4.9800e+00],\n",
      "       [2.7310e-02, 0.0000e+00, 7.0700e+00, ..., 1.7800e+01, 3.9690e+02,\n",
      "        9.1400e+00],\n",
      "       [2.7290e-02, 0.0000e+00, 7.0700e+00, ..., 1.7800e+01, 3.9283e+02,\n",
      "        4.0300e+00],\n",
      "       ...,\n",
      "       [6.0760e-02, 0.0000e+00, 1.1930e+01, ..., 2.1000e+01, 3.9690e+02,\n",
      "        5.6400e+00],\n",
      "       [1.0959e-01, 0.0000e+00, 1.1930e+01, ..., 2.1000e+01, 3.9345e+02,\n",
      "        6.4800e+00],\n",
      "       [4.7410e-02, 0.0000e+00, 1.1930e+01, ..., 2.1000e+01, 3.9690e+02,\n",
      "        7.8800e+00]]),\n",
      " 'feature_names': array(['CRIM', 'ZN', 'INDUS', 'CHAS', 'NOX', 'RM', 'AGE', 'DIS', 'RAD',\n",
      "       'TAX', 'PTRATIO', 'B', 'LSTAT'], dtype='<U7'),\n",
      " 'filename': 'c:\\\\Users\\\\acasa\\\\anaconda3\\\\lib\\\\site-packages\\\\sklearn\\\\datasets\\\\data\\\\boston_house_prices.csv',\n",
      " 'target': array([24. , 21.6, 34.7, 33.4, 36.2, 28.7, 22.9, 27.1, 16.5, 18.9, 15. ,\n",
      "       18.9, 21.7, 20.4, 18.2, 19.9, 23.1, 17.5, 20.2, 18.2, 13.6, 19.6,\n",
      "       15.2, 14.5, 15.6, 13.9, 16.6, 14.8, 18.4, 21. , 12.7, 14.5, 13.2,\n",
      "       13.1, 13.5, 18.9, 20. , 21. , 24.7, 30.8, 34.9, 26.6, 25.3, 24.7,\n",
      "       21.2, 19.3, 20. , 16.6, 14.4, 19.4, 19.7, 20.5, 25. , 23.4, 18.9,\n",
      "       35.4, 24.7, 31.6, 23.3, 19.6, 18.7, 16. , 22.2, 25. , 33. , 23.5,\n",
      "       19.4, 22. , 17.4, 20.9, 24.2, 21.7, 22.8, 23.4, 24.1, 21.4, 20. ,\n",
      "       20.8, 21.2, 20.3, 28. , 23.9, 24.8, 22.9, 23.9, 26.6, 22.5, 22.2,\n",
      "       23.6, 28.7, 22.6, 22. , 22.9, 25. , 20.6, 28.4, 21.4, 38.7, 43.8,\n",
      "       33.2, 27.5, 26.5, 18.6, 19.3, 20.1, 19.5, 19.5, 20.4, 19.8, 19.4,\n",
      "       21.7, 22.8, 18.8, 18.7, 18.5, 18.3, 21.2, 19.2, 20.4, 19.3, 22. ,\n",
      "       20.3, 20.5, 17.3, 18.8, 21.4, 15.7, 16.2, 18. , 14.3, 19.2, 19.6,\n",
      "       23. , 18.4, 15.6, 18.1, 17.4, 17.1, 13.3, 17.8, 14. , 14.4, 13.4,\n",
      "       15.6, 11.8, 13.8, 15.6, 14.6, 17.8, 15.4, 21.5, 19.6, 15.3, 19.4,\n",
      "       17. , 15.6, 13.1, 41.3, 24.3, 23.3, 27. , 50. , 50. , 50. , 22.7,\n",
      "       25. , 50. , 23.8, 23.8, 22.3, 17.4, 19.1, 23.1, 23.6, 22.6, 29.4,\n",
      "       23.2, 24.6, 29.9, 37.2, 39.8, 36.2, 37.9, 32.5, 26.4, 29.6, 50. ,\n",
      "       32. , 29.8, 34.9, 37. , 30.5, 36.4, 31.1, 29.1, 50. , 33.3, 30.3,\n",
      "       34.6, 34.9, 32.9, 24.1, 42.3, 48.5, 50. , 22.6, 24.4, 22.5, 24.4,\n",
      "       20. , 21.7, 19.3, 22.4, 28.1, 23.7, 25. , 23.3, 28.7, 21.5, 23. ,\n",
      "       26.7, 21.7, 27.5, 30.1, 44.8, 50. , 37.6, 31.6, 46.7, 31.5, 24.3,\n",
      "       31.7, 41.7, 48.3, 29. , 24. , 25.1, 31.5, 23.7, 23.3, 22. , 20.1,\n",
      "       22.2, 23.7, 17.6, 18.5, 24.3, 20.5, 24.5, 26.2, 24.4, 24.8, 29.6,\n",
      "       42.8, 21.9, 20.9, 44. , 50. , 36. , 30.1, 33.8, 43.1, 48.8, 31. ,\n",
      "       36.5, 22.8, 30.7, 50. , 43.5, 20.7, 21.1, 25.2, 24.4, 35.2, 32.4,\n",
      "       32. , 33.2, 33.1, 29.1, 35.1, 45.4, 35.4, 46. , 50. , 32.2, 22. ,\n",
      "       20.1, 23.2, 22.3, 24.8, 28.5, 37.3, 27.9, 23.9, 21.7, 28.6, 27.1,\n",
      "       20.3, 22.5, 29. , 24.8, 22. , 26.4, 33.1, 36.1, 28.4, 33.4, 28.2,\n",
      "       22.8, 20.3, 16.1, 22.1, 19.4, 21.6, 23.8, 16.2, 17.8, 19.8, 23.1,\n",
      "       21. , 23.8, 23.1, 20.4, 18.5, 25. , 24.6, 23. , 22.2, 19.3, 22.6,\n",
      "       19.8, 17.1, 19.4, 22.2, 20.7, 21.1, 19.5, 18.5, 20.6, 19. , 18.7,\n",
      "       32.7, 16.5, 23.9, 31.2, 17.5, 17.2, 23.1, 24.5, 26.6, 22.9, 24.1,\n",
      "       18.6, 30.1, 18.2, 20.6, 17.8, 21.7, 22.7, 22.6, 25. , 19.9, 20.8,\n",
      "       16.8, 21.9, 27.5, 21.9, 23.1, 50. , 50. , 50. , 50. , 50. , 13.8,\n",
      "       13.8, 15. , 13.9, 13.3, 13.1, 10.2, 10.4, 10.9, 11.3, 12.3,  8.8,\n",
      "        7.2, 10.5,  7.4, 10.2, 11.5, 15.1, 23.2,  9.7, 13.8, 12.7, 13.1,\n",
      "       12.5,  8.5,  5. ,  6.3,  5.6,  7.2, 12.1,  8.3,  8.5,  5. , 11.9,\n",
      "       27.9, 17.2, 27.5, 15. , 17.2, 17.9, 16.3,  7. ,  7.2,  7.5, 10.4,\n",
      "        8.8,  8.4, 16.7, 14.2, 20.8, 13.4, 11.7,  8.3, 10.2, 10.9, 11. ,\n",
      "        9.5, 14.5, 14.1, 16.1, 14.3, 11.7, 13.4,  9.6,  8.7,  8.4, 12.8,\n",
      "       10.5, 17.1, 18.4, 15.4, 10.8, 11.8, 14.9, 12.6, 14.1, 13. , 13.4,\n",
      "       15.2, 16.1, 17.8, 14.9, 14.1, 12.7, 13.5, 14.9, 20. , 16.4, 17.7,\n",
      "       19.5, 20.2, 21.4, 19.9, 19. , 19.1, 19.1, 20.1, 19.9, 19.6, 23.2,\n",
      "       29.8, 13.8, 13.3, 16.7, 12. , 14.6, 21.4, 23. , 23.7, 25. , 21.8,\n",
      "       20.6, 21.2, 19.1, 20.6, 15.2,  7. ,  8.1, 13.6, 20.1, 21.8, 24.5,\n",
      "       23.1, 19.7, 18.3, 21.2, 17.5, 16.8, 22.4, 20.6, 23.9, 22. , 11.9])}\n",
      "(506, 13)\n"
     ]
    }
   ],
   "source": [
    "# Cargar y explorar los datos\n",
    "datos = datasets.load_boston()\n",
    "pprint(datos)\n",
    "print(np.shape(datos.data))"
   ]
  },
  {
   "cell_type": "code",
   "execution_count": 4,
   "metadata": {},
   "outputs": [],
   "source": [
    "# Extraer la matriz de datos \"X\" y la variable target \"y\"\n",
    "\n",
    "X = datos.data\n",
    "y = datos.target"
   ]
  },
  {
   "cell_type": "code",
   "execution_count": 5,
   "metadata": {},
   "outputs": [],
   "source": [
    "# Partición EXTERNA: hold-out split 80% train - 20% test.\n",
    "X_train, X_test, y_train, y_test = train_test_split(X,y, test_size=0.2, shuffle=True, random_state=42)"
   ]
  },
  {
   "cell_type": "code",
   "execution_count": 6,
   "metadata": {},
   "outputs": [],
   "source": [
    "# Estandarización de los datos de entrenamiento y test\n",
    "stdr = preprocessing.StandardScaler()\n",
    "X_train = stdr.fit_transform(X_train)\n",
    "X_test = stdr.transform(X_test)"
   ]
  },
  {
   "cell_type": "code",
   "execution_count": 7,
   "metadata": {},
   "outputs": [],
   "source": [
    "# Métricas de evaluación.\n",
    "metricas = {\n",
    "  'MAE': 'neg_mean_absolute_error',\n",
    "  'R2': 'r2',\n",
    "  'RMSE': make_scorer(lambda y, y_pred:\n",
    "                      sqrt(mean_squared_error(y, y_pred)),\n",
    "                      greater_is_better=False),\n",
    "  'MAPE': make_scorer(lambda y, y_pred:\n",
    "                      np.mean(np.abs((y - y_pred) / y)) * 100,\n",
    "                      greater_is_better=False)}"
   ]
  },
  {
   "cell_type": "code",
   "execution_count": 8,
   "metadata": {},
   "outputs": [],
   "source": [
    "# Definimos un algoritmo SVM de regresión\n",
    "from sklearn.svm import SVR\n",
    "alg = SVR(C=50, gamma='auto', kernel='rbf')\n",
    "\n",
    "#svc = SVC(C=1, gamma='auto', kernel='linear')"
   ]
  },
  {
   "cell_type": "code",
   "execution_count": 9,
   "metadata": {},
   "outputs": [],
   "source": [
    "# Validación y evaluación del modelo.\n",
    "# en \"cv = KFold(n_splits=5)\" se hace un cross-validation INTERNO!! \n",
    "results = cross_validate(alg, X_train, y_train, cv = KFold(n_splits=5, shuffle=True, random_state=42), scoring = metricas)"
   ]
  },
  {
   "cell_type": "code",
   "execution_count": 10,
   "metadata": {},
   "outputs": [
    {
     "name": "stdout",
     "output_type": "stream",
     "text": [
      "0.9306\n"
     ]
    }
   ],
   "source": [
    "print(np.round(np.max(results['test_R2']),4))"
   ]
  },
  {
   "cell_type": "code",
   "execution_count": 11,
   "metadata": {},
   "outputs": [
    {
     "name": "stdout",
     "output_type": "stream",
     "text": [
      "{'fit_time': array([0.03071713, 0.01209974, 0.01104712, 0.01206946, 0.01021576]),\n",
      " 'score_time': array([0.00299811, 0.00200033, 0.0029521 , 0.00199986, 0.00200677]),\n",
      " 'test_MAE': array([-2.4820366 , -1.89764442, -2.6880301 , -2.39892713, -1.89858002]),\n",
      " 'test_MAPE': array([-13.13091735,  -9.20477   , -11.08525005, -10.76882415,\n",
      "       -11.18023812]),\n",
      " 'test_R2': array([0.78705471, 0.93056802, 0.6480339 , 0.88227745, 0.90485517]),\n",
      " 'test_RMSE': array([-3.89106507, -2.61137953, -5.59193598, -3.54826745, -2.51098123])}\n"
     ]
    }
   ],
   "source": [
    "# Presentación de los resultados de la evaluación.\n",
    "pprint(results)"
   ]
  },
  {
   "cell_type": "code",
   "execution_count": 12,
   "metadata": {},
   "outputs": [
    {
     "name": "stdout",
     "output_type": "stream",
     "text": [
      "0.8306\n"
     ]
    }
   ],
   "source": [
    "print(np.round(np.mean(results['test_R2']),4))"
   ]
  },
  {
   "cell_type": "code",
   "execution_count": 14,
   "metadata": {},
   "outputs": [
    {
     "data": {
      "text/plain": [
       "GridSearchCV(cv=5, estimator=SVR(), n_jobs=-1,\n",
       "             param_grid={'C': [1, 5, 10, 15, 20, 25, 30, 35, 40, 45, 50, 55, 60,\n",
       "                               65, 70, 75, 80, 85, 90, 95, 100, 105, 110, 115,\n",
       "                               120, 125, 130, 135, 140, 145, ...],\n",
       "                         'gamma': ('auto', 'scale'),\n",
       "                         'kernel': ('linear', 'rbf', 'sigmoid', 'poly')},\n",
       "             scoring='r2')"
      ]
     },
     "execution_count": 14,
     "metadata": {},
     "output_type": "execute_result"
    }
   ],
   "source": [
    "## Ejemplo propio para la búsqueda de parámetros optimos\n",
    "from sklearn.model_selection import GridSearchCV\n",
    "\n",
    "##Valores de C a evaluar\n",
    "lista_c = [1] + list(range(5,200,5))\n",
    "parametros= {'kernel':('linear', 'rbf', 'sigmoid', 'poly'), \n",
    "             'gamma':('auto', 'scale'),\n",
    "             'C':lista_c}\n",
    "\n",
    "grid_SVR = GridSearchCV(estimator=SVR(), #tipo de algoritmo SVR\n",
    "                        param_grid = parametros, #parametros que queremos evaluar\n",
    "                        cv = 5,     #Validación cruzada\n",
    "                        n_jobs=-1, \n",
    "                        scoring='r2') #scoring con el queremos validar\n",
    "grid_SVR.fit(X_train, y_train)\n"
   ]
  },
  {
   "cell_type": "code",
   "execution_count": 15,
   "metadata": {},
   "outputs": [
    {
     "name": "stdout",
     "output_type": "stream",
     "text": [
      " Results from Grid Search \n",
      "\n",
      " The best estimator across ALL searched params:\n",
      " SVR(C=175, gamma='auto')\n",
      "\n",
      " The best score across ALL searched params:\n",
      " 0.8902078772302806\n",
      "\n",
      " The best parameters across ALL searched params:\n",
      " {'C': 175, 'gamma': 'auto', 'kernel': 'rbf'}\n"
     ]
    }
   ],
   "source": [
    "print(\" Results from Grid Search \" )\n",
    "print(\"\\n The best estimator across ALL searched params:\\n\",grid_SVR.best_estimator_)\n",
    "print(\"\\n The best score across ALL searched params:\\n\",grid_SVR.best_score_)\n",
    "print(\"\\n The best parameters across ALL searched params:\\n\",grid_SVR.best_params_)"
   ]
  },
  {
   "cell_type": "code",
   "execution_count": 16,
   "metadata": {},
   "outputs": [
    {
     "data": {
      "text/plain": [
       "['mean_fit_time',\n",
       " 'mean_score_time',\n",
       " 'mean_test_score',\n",
       " 'param_C',\n",
       " 'param_gamma',\n",
       " 'param_kernel',\n",
       " 'params',\n",
       " 'rank_test_score',\n",
       " 'split0_test_score',\n",
       " 'split1_test_score',\n",
       " 'split2_test_score',\n",
       " 'split3_test_score',\n",
       " 'split4_test_score',\n",
       " 'std_fit_time',\n",
       " 'std_score_time',\n",
       " 'std_test_score']"
      ]
     },
     "execution_count": 16,
     "metadata": {},
     "output_type": "execute_result"
    }
   ],
   "source": [
    "sorted(grid_SVR.cv_results_.keys())"
   ]
  },
  {
   "cell_type": "code",
   "execution_count": 17,
   "metadata": {},
   "outputs": [],
   "source": [
    "# Una vez hemos optimizado los hiperparámetros en el conjunto de validación, entrenamos un nuevo modelo que contenga\n",
    "# todos los datos de entrenamiento (es decir, train + validation) para evaluar el test\n",
    "model = SVR(C=175, gamma='auto', kernel='rbf')\n",
    "model = model.fit(X_train, y_train)"
   ]
  },
  {
   "cell_type": "code",
   "execution_count": 19,
   "metadata": {},
   "outputs": [
    {
     "name": "stdout",
     "output_type": "stream",
     "text": [
      "Test results (MAE):  2.1584930663598407\n",
      "Test results (r2):  0.8303570610071995\n"
     ]
    }
   ],
   "source": [
    "# Extraemos el error absoluto promedio (MAE) del conjunto de test\n",
    "y_pred = model.predict(X_test)\n",
    "mae = mean_absolute_error(y_test, y_pred)\n",
    "r2 = r2_score(y_test, y_pred)\n",
    "print('Test results (MAE): ', mae)\n",
    "print('Test results (r2): ', r2)"
   ]
  },
  {
   "cell_type": "code",
   "execution_count": 20,
   "metadata": {},
   "outputs": [
    {
     "name": "stdout",
     "output_type": "stream",
     "text": [
      "Predicciones:    [26.2 32.1 14.4 22.1 16.2 22.  19.4 15.7 21.8 19.7]\n",
      "Valores reales:  [23.6 32.4 13.6 22.8 16.1 20.  17.8 14.  19.6 16.8]\n"
     ]
    }
   ],
   "source": [
    "# También podemos extraer las predicciones para cuánto difieren los valores predichos de los reales\n",
    "print('Predicciones:   ', np.round(y_pred[:10], 1))\n",
    "print('Valores reales: ', y_test[:10])"
   ]
  },
  {
   "cell_type": "code",
   "execution_count": 105,
   "metadata": {},
   "outputs": [],
   "source": [
    "# Grafica de realidad -vs- prediccion.\n",
    "def grafica_real_vs_pred(y_true, y_pred, metricas, algoritmo):\n",
    "    fig, ax = plt.subplots()\n",
    "    ax.scatter(y_true, y_pred, edgecolors=(0, 0, 0))\n",
    "    ax.plot([y_true.min(), y_true.max()], [y_true.min(), y_true.max()], 'k--', lw=4)\n",
    "    ax.set_xlabel('Valor real de la clase')\n",
    "    ax.set_ylabel('Predicción')\n",
    "    plt.show()"
   ]
  },
  {
   "cell_type": "code",
   "execution_count": 107,
   "metadata": {},
   "outputs": [
    {
     "data": {
      "image/png": "[encoded data removed]",
      "text/plain": [
       "<Figure size 432x288 with 1 Axes>"
      ]
     },
     "metadata": {
      "needs_background": "light"
     },
     "output_type": "display_data"
    }
   ],
   "source": [
    "grafica_real_vs_pred(y_test, y_pred, metricas, model)"
   ]
  }
 ],
 "metadata": {
  "kernelspec": {
   "display_name": "base",
   "language": "python",
   "name": "python3"
  },
  "language_info": {
   "codemirror_mode": {
    "name": "ipython",
    "version": 3
   },
   "file_extension": ".py",
   "mimetype": "text/x-python",
   "name": "python",
   "nbconvert_exporter": "python",
   "pygments_lexer": "ipython3",
   "version": "3.9.7"
  },
  "vscode": {
   "interpreter": {
    "hash": "9a65927f5967699fcd722c82a9c185cfa0040c4b95e3af20a6eefdab7483f21b"
   }
  }
 },
 "nbformat": 4,
 "nbformat_minor": 2
}
