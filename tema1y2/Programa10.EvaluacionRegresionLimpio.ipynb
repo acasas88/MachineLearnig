{
 "cells": [
  {
   "cell_type": "code",
   "execution_count": null,
   "metadata": {
    "scrolled": true
   },
   "outputs": [],
   "source": [
    "import numpy as np\n",
    "from math import sqrt\n",
    "from pprint import pprint\n",
    "from sklearn import datasets\n",
    "from sklearn.dummy import DummyRegressor\n",
    "from sklearn.model_selection import cross_validate\n",
    "from sklearn.model_selection import KFold\n",
    "from sklearn.metrics import make_scorer\n",
    "from sklearn.metrics import mean_squared_error\n",
    "from sklearn.model_selection import train_test_split\n",
    "from sklearn.svm import SVR\n",
    "from sklearn.metrics import mean_absolute_error, mean_squared_error, mean_absolute_percentage_error, r2_score\n",
    "import matplotlib.pyplot as plt\n",
    "from sklearn import preprocessing\n",
    "from sklearn.ensemble import RandomForestClassifier\n",
    "from sklearn.linear_model import LinearRegression"
   ]
  },
  {
   "cell_type": "code",
   "execution_count": null,
   "metadata": {},
   "outputs": [],
   "source": [
    "import warnings\n",
    "warnings.filterwarnings(action='ignore',module='sklearn')"
   ]
  },
  {
   "cell_type": "code",
   "execution_count": null,
   "metadata": {
    "scrolled": false
   },
   "outputs": [],
   "source": [
    "# Cargar y explorar los datos\n",
    "datos = datasets.load_boston()\n",
    "print(np.shape(datos.data))"
   ]
  },
  {
   "cell_type": "code",
   "execution_count": null,
   "metadata": {
    "scrolled": true
   },
   "outputs": [],
   "source": [
    "# Extraer la matriz de datos \"X\" y la variable target \"y\"\n",
    "X = datos.data\n",
    "y = datos.target"
   ]
  },
  {
   "cell_type": "code",
   "execution_count": null,
   "metadata": {
    "scrolled": true
   },
   "outputs": [],
   "source": [
    "# Partición EXTERNA: hold-out split 80% train - 20% test.\n",
    "X_train, X_test, y_train, y_test = train_test_split(X, y, test_size=0.2, random_state=42)"
   ]
  },
  {
   "cell_type": "code",
   "execution_count": null,
   "metadata": {
    "scrolled": true
   },
   "outputs": [],
   "source": [
    "# Estandarización de los datos de entrenamiento y test\n",
    "stdr = preprocessing.StandardScaler()\n",
    "X_train = stdr.fit_transform(X_train)\n",
    "X_test = stdr.transform(X_test)"
   ]
  },
  {
   "cell_type": "code",
   "execution_count": null,
   "metadata": {
    "scrolled": true
   },
   "outputs": [],
   "source": [
    "# Métricas de evaluación.\n",
    "metricas = {\n",
    "    'MAE': 'neg_mean_absolute_error',\n",
    "    'MSE': 'neg_mean_squared_error',\n",
    "    'RMSE': make_scorer(lambda y, y_pred:\n",
    "                      sqrt(mean_squared_error(y, y_pred)),\n",
    "                      greater_is_better=False),\n",
    "    'MAPE': make_scorer(lambda y, y_pred:\n",
    "                      np.mean(np.abs((y - y_pred) / y)) * 100,\n",
    "                      greater_is_better=False)}"
   ]
  },
  {
   "cell_type": "code",
   "execution_count": null,
   "metadata": {
    "scrolled": true
   },
   "outputs": [],
   "source": [
    "# Definimos un algoritmo SVM de regresión\n",
    "alg = SVR(C=100, gamma='auto', kernel='rbf')"
   ]
  },
  {
   "cell_type": "code",
   "execution_count": null,
   "metadata": {
    "scrolled": true
   },
   "outputs": [],
   "source": [
    "# Validación y evaluación del modelo.\n",
    "# en \"cv = KFold(n_splits=5)\" se hace un cross-validation INTERNO!! \n",
    "results = cross_validate(alg, X_train, y_train, cv = KFold(n_splits=5, shuffle=True, random_state=42), scoring=metricas)"
   ]
  },
  {
   "cell_type": "code",
   "execution_count": null,
   "metadata": {
    "scrolled": true
   },
   "outputs": [],
   "source": [
    "# Presentación de los resultados de la evaluación.\n",
    "pprint(results)"
   ]
  },
  {
   "cell_type": "code",
   "execution_count": null,
   "metadata": {
    "scrolled": true
   },
   "outputs": [],
   "source": [
    "# Una vez hemos optimizado los hiperparámetros en el conjunto de validación, entrenamos un nuevo modelo que contenga\n",
    "# todos los datos de entrenamiento (es decir, train + validation) para evaluar el test\n",
    "model = SVR(C=100, gamma='auto', kernel='rbf')\n",
    "model = model.fit(X_train, y_train)"
   ]
  },
  {
   "cell_type": "code",
   "execution_count": null,
   "metadata": {
    "scrolled": true
   },
   "outputs": [],
   "source": [
    "# Extraemos el error absoluto promedio (MAE) del conjunto de test\n",
    "y_pred = model.predict(X_test)\n",
    "mae = mean_absolute_error(y_test, y_pred)\n",
    "r2 = r2_score(y_test, y_pred)\n",
    "print('Test results (MAE): ', np.round(mae,4))\n",
    "print('Test results (r2): ', np.round(r2,4))"
   ]
  },
  {
   "cell_type": "code",
   "execution_count": null,
   "metadata": {
    "scrolled": true
   },
   "outputs": [],
   "source": [
    "# También podemos extraer las predicciones para cuánto difieren los valores predichos de los reales\n",
    "print('Predicciones:   ', np.round(y_pred[:10], 1))\n",
    "print('Valores reales: ', y_test[:10])"
   ]
  },
  {
   "cell_type": "code",
   "execution_count": null,
   "metadata": {},
   "outputs": [],
   "source": [
    "# Get regression graphics\n",
    "def report_regression_graphics(y_true, y_pred):\n",
    "    fig, ax = plt.subplots(2,1)\n",
    "\n",
    "    # Plot linear fit\n",
    "    ax[0].scatter(y_true, y_pred)\n",
    "    ax[0].set_ylabel('y_pred')\n",
    "    ax[0].set_title('Regression line')\n",
    "    ax[0].grid()\n",
    "    # overlay the regression line\n",
    "    z = np.polyfit(np.float64(y_true), y_pred, 1)\n",
    "    p = np.poly1d(z)\n",
    "    ax[0].plot(y_true, p(y_true), color='magenta')\n",
    "\n",
    "    # Plot bisectriz\n",
    "    ax[1].scatter(y_true, y_pred, edgecolors=(0, 0, 0))\n",
    "    ax[1].set_xlabel('y_true')\n",
    "    ax[1].set_ylabel('y_pred')\n",
    "    ax[1].set_title('Bisector')\n",
    "    ax[1].plot([y_true.min(), y_true.max()], [y_true.min(), y_true.max()], 'k--', lw=4)\n",
    "    ax[1].grid()"
   ]
  },
  {
   "cell_type": "code",
   "execution_count": null,
   "metadata": {},
   "outputs": [],
   "source": [
    "report_regression_graphics(y_test, y_pred)"
   ]
  }
 ],
 "metadata": {
  "kernelspec": {
   "display_name": "base",
   "language": "python",
   "name": "python3"
  },
  "language_info": {
   "codemirror_mode": {
    "name": "ipython",
    "version": 3
   },
   "file_extension": ".py",
   "mimetype": "text/x-python",
   "name": "python",
   "nbconvert_exporter": "python",
   "pygments_lexer": "ipython3",
   "version": "3.9.7"
  },
  "vscode": {
   "interpreter": {
    "hash": "9a65927f5967699fcd722c82a9c185cfa0040c4b95e3af20a6eefdab7483f21b"
   }
  }
 },
 "nbformat": 4,
 "nbformat_minor": 2
}
