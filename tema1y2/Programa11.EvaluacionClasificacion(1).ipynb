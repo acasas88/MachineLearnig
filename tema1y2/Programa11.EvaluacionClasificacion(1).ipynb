{
 "cells": [
  {
   "cell_type": "code",
   "execution_count": 18,
   "metadata": {},
   "outputs": [],
   "source": [
    "import numpy as np\n",
    "import pandas as pd\n",
    "from sklearn import datasets\n",
    "from sklearn.dummy import DummyClassifier\n",
    "from sklearn.model_selection import cross_val_predict, cross_validate, cross_val_score\n",
    "from sklearn.model_selection import KFold\n",
    "import sklearn.metrics as metrics\n",
    "from sklearn.model_selection import train_test_split\n",
    "from sklearn import preprocessing\n",
    "from pprint import pprint\n",
    "from sklearn.svm import SVC"
   ]
  },
  {
   "cell_type": "code",
   "execution_count": 46,
   "metadata": {},
   "outputs": [
    {
     "name": "stdout",
     "output_type": "stream",
     "text": [
      "(150, 4)\n"
     ]
    }
   ],
   "source": [
    "# Carga de datos.\n",
    "datos = datasets.load_iris()\n",
    "print(np.shape(datos.data))"
   ]
  },
  {
   "cell_type": "code",
   "execution_count": 47,
   "metadata": {},
   "outputs": [],
   "source": [
    "# Extraer la matriz de datos \"X\" y la variable target \"y\"\n",
    "X = datos.data\n",
    "y = datos.target"
   ]
  },
  {
   "cell_type": "code",
   "execution_count": 48,
   "metadata": {},
   "outputs": [
    {
     "name": "stdout",
     "output_type": "stream",
     "text": [
      "Train dimensions:  (120, 4)\n",
      "Test dimensions:   (30, 4)\n"
     ]
    }
   ],
   "source": [
    "# Partición EXTERNA. Test: hold-out split 80-20%.\n",
    "X_train, X_test, y_train, y_test = train_test_split(datos.data, datos.target, test_size=0.2, random_state=42)\n",
    "print('Train dimensions: ', np.shape(X_train))\n",
    "print('Test dimensions:  ', np.shape(X_test))"
   ]
  },
  {
   "cell_type": "code",
   "execution_count": 53,
   "metadata": {},
   "outputs": [],
   "source": [
    "# Estandarización de los datos de entrenamiento y test\n",
    "standardizer = preprocessing.StandardScaler()\n",
    "X_train = standardizer.fit_transform(X_train)\n",
    "X_test = standardizer.transform(X_test)"
   ]
  },
  {
   "cell_type": "code",
   "execution_count": 61,
   "metadata": {},
   "outputs": [],
   "source": [
    "# Definimos el algoritmo. \n",
    "# C=0.1, gamma='auto' y kernel gausiano\n",
    "alg = SVC(C=10, gamma='auto', kernel='rbf')"
   ]
  },
  {
   "cell_type": "code",
   "execution_count": 62,
   "metadata": {},
   "outputs": [
    {
     "name": "stdout",
     "output_type": "stream",
     "text": [
      "[0 0 1 0 0 2 1 0 0 0 2 1 1 0 0 1 1 2 1 2 1 2 1 0 2 1 0 0 0 1 2 0 0 0 1 0 1\n",
      " 2 0 1 2 0 2 2 1 1 2 1 0 1 2 0 0 1 2 0 2 0 0 2 1 2 2 2 2 1 0 0 2 2 0 0 0 2\n",
      " 2 0 2 2 0 1 1 2 1 2 0 2 1 2 1 1 1 0 1 1 0 1 2 2 0 1 2 2 0 2 0 1 2 2 1 2 1\n",
      " 1 2 2 0 1 1 0 1 2]\n",
      "[0 0 1 0 0 2 1 0 0 0 2 1 1 0 0 1 2 2 1 2 1 2 1 0 2 1 0 0 0 1 2 0 0 0 1 0 1\n",
      " 2 0 1 2 0 2 2 1 1 2 1 0 1 2 0 0 1 1 0 2 0 0 1 1 2 1 2 2 1 0 0 2 2 0 0 0 1\n",
      " 2 0 2 2 0 1 1 2 1 2 0 2 1 2 1 1 1 0 1 1 0 1 2 2 0 1 2 2 0 2 0 1 2 2 1 2 1\n",
      " 1 2 2 0 1 2 0 1 2]\n"
     ]
    }
   ],
   "source": [
    "# Cross-validation interno\n",
    "# Utilizar comando \"cross_val_predict\" para extraer directamente las predicciones de las 5 bolsas de validación\n",
    "y_pred = cross_val_predict(alg, X_train, y_train, cv=KFold(n_splits=5, shuffle=True, random_state=42))\n",
    "print(y_pred)\n",
    "print(y_train)"
   ]
  },
  {
   "cell_type": "code",
   "execution_count": 57,
   "metadata": {},
   "outputs": [
    {
     "name": "stdout",
     "output_type": "stream",
     "text": [
      "Exactitud: 0.950\n",
      "Precisión: 0.950\n",
      "Sensibilidad: 0.950\n",
      "F1-score: 0.950\n"
     ]
    }
   ],
   "source": [
    "# Presentación de los resultados de la evaluación.\n",
    "print(\"Exactitud: %.3f\" % (metrics.accuracy_score(y_train, y_pred))) # accuracy\n",
    "print(\"Precisión: %.3f\" % (metrics.precision_score(y_train, y_pred, average=\"micro\"))) # precision\n",
    "print(\"Sensibilidad: %.3f\" % (metrics.recall_score(y_train, y_pred, average=\"micro\"))) # sensibilidad\n",
    "print(\"F1-score: %.3f\" % (metrics.f1_score(y_train, y_pred, average=\"micro\"))) # F-score"
   ]
  },
  {
   "cell_type": "code",
   "execution_count": 13,
   "metadata": {},
   "outputs": [
    {
     "name": "stdout",
     "output_type": "stream",
     "text": [
      "Matriz de confusión:\n",
      " [[40  0  0]\n",
      " [ 0 37  4]\n",
      " [ 0  2 37]]\n"
     ]
    }
   ],
   "source": [
    "# Extraemos la matriz de confusión\n",
    "print(\"Matriz de confusión:\\n\", metrics.confusion_matrix(y_train, y_pred))"
   ]
  },
  {
   "cell_type": "code",
   "execution_count": 14,
   "metadata": {},
   "outputs": [
    {
     "name": "stdout",
     "output_type": "stream",
     "text": [
      "Tabla de métricas:\n",
      "               precision    recall  f1-score   support\n",
      "\n",
      "           0       1.00      1.00      1.00        40\n",
      "           1       0.95      0.90      0.92        41\n",
      "           2       0.90      0.95      0.92        39\n",
      "\n",
      "    accuracy                           0.95       120\n",
      "   macro avg       0.95      0.95      0.95       120\n",
      "weighted avg       0.95      0.95      0.95       120\n",
      "\n"
     ]
    }
   ],
   "source": [
    "print(\"Tabla de métricas:\\n\", metrics.classification_report(y_train, y_pred))"
   ]
  },
  {
   "cell_type": "code",
   "execution_count": 36,
   "metadata": {},
   "outputs": [
    {
     "name": "stdout",
     "output_type": "stream",
     "text": [
      "Exactitud en test:  100.0 %\n"
     ]
    }
   ],
   "source": [
    "# Una vez hemos optimizado los hiperparámetros con el conjunto de validación, utilizamos todos los datos de \n",
    "# \"train\" y \"validation\" para entrenar un modelo definitivo con esos hiperparámetros ajustados\n",
    "model = SVC(C=1, gamma='scale', kernel='rbf') # Definimos el modelo con los hiperparámetros óptimos\n",
    "model = model.fit(X_train, y_train) # Entrenamos el modelo con todos los datos de \"train\" + \"val\"\n",
    "\n",
    "# y finalmente evaluamos el test con el método \"score()\"\n",
    "test_results = model.score(X_test, y_test)\n",
    "print('Exactitud en test: ', np.round(test_results*100,4), '%')"
   ]
  },
  {
   "cell_type": "code",
   "execution_count": 37,
   "metadata": {},
   "outputs": [
    {
     "name": "stdout",
     "output_type": "stream",
     "text": [
      "              precision    recall  f1-score   support\n",
      "\n",
      "           0       1.00      1.00      1.00        10\n",
      "           1       1.00      1.00      1.00         9\n",
      "           2       1.00      1.00      1.00        11\n",
      "\n",
      "    accuracy                           1.00        30\n",
      "   macro avg       1.00      1.00      1.00        30\n",
      "weighted avg       1.00      1.00      1.00        30\n",
      "\n",
      "[[10  0  0]\n",
      " [ 0  9  0]\n",
      " [ 0  0 11]]\n"
     ]
    }
   ],
   "source": [
    "# obtenemos las predicciones del test para extraer el resto de métricas de interés\n",
    "y_pred_test = model.predict(X_test) # Extraer predicciones\n",
    "print(metrics.classification_report(y_test, y_pred_test)) # Aplicar el método de classification_report()\n",
    "print(metrics.confusion_matrix(y_test, y_pred_test)) # Extraer la matriz de confusión"
   ]
  },
  {
   "attachments": {},
   "cell_type": "markdown",
   "metadata": {},
   "source": [
    "### Otro ejecicio"
   ]
  },
  {
   "cell_type": "code",
   "execution_count": 65,
   "metadata": {},
   "outputs": [
    {
     "name": "stdout",
     "output_type": "stream",
     "text": [
      "        Col1       Col2       Col3       Col4        Col5       Col6  \\\n",
      "0  63.027817  22.552586  39.609117  40.475232   98.672917  -0.254400   \n",
      "1  39.056951  10.060991  25.015378  28.995960  114.405425   4.564259   \n",
      "2  68.832021  22.218482  50.092194  46.613539  105.985135  -3.530317   \n",
      "3  69.297008  24.652878  44.311238  44.644130  101.868495  11.211523   \n",
      "4  49.712859   9.652075  28.317406  40.060784  108.168725   7.918501   \n",
      "\n",
      "       Col7     Col8     Col9     Col10      Col11    Col12 Class_att  \\\n",
      "0  0.744503  12.5661  14.5386  15.30468 -28.658501  43.5123  Abnormal   \n",
      "1  0.415186  12.8874  17.5323  16.78486 -25.530607  16.1102  Abnormal   \n",
      "2  0.474889  26.8343  17.4861  16.65897 -29.031888  19.2221  Abnormal   \n",
      "3  0.369345  23.5603  12.7074  11.42447 -30.470246  18.8329  Abnormal   \n",
      "4  0.543360  35.4940  15.9546   8.87237 -16.378376  24.9171  Abnormal   \n",
      "\n",
      "                                         Unnamed: 13  \n",
      "0                                                NaN  \n",
      "1                                                NaN  \n",
      "2  Prediction is done by using binary classificat...  \n",
      "3                                                NaN  \n",
      "4                                                NaN  \n"
     ]
    }
   ],
   "source": [
    "###Otro ejercicio con datos de columna\n",
    "csv = pd.read_csv('./res/Dataset_spine_2C.csv', sep=',')\n",
    "print(csv.head())\n",
    "\n",
    "data = np.array(csv)\n",
    "X=data[:,:-1]\n",
    "y=data[:,-1]\n"
   ]
  },
  {
   "cell_type": "code",
   "execution_count": null,
   "metadata": {},
   "outputs": [],
   "source": [
    "# Partición EXTERNA. Test: hold-out split 80-20%.\n",
    "X_train, X_test, y_train, y_test = train_test_split(datos.data, datos.target, test_size=0.2, random_state=42)\n",
    "print('Train dimensions: ', np.shape(X_train))\n",
    "print('Test dimensions:  ', np.shape(X_test))"
   ]
  }
 ],
 "metadata": {
  "kernelspec": {
   "display_name": "base",
   "language": "python",
   "name": "python3"
  },
  "language_info": {
   "codemirror_mode": {
    "name": "ipython",
    "version": 3
   },
   "file_extension": ".py",
   "mimetype": "text/x-python",
   "name": "python",
   "nbconvert_exporter": "python",
   "pygments_lexer": "ipython3",
   "version": "3.9.7 (default, Sep 16 2021, 16:59:28) [MSC v.1916 64 bit (AMD64)]"
  },
  "vscode": {
   "interpreter": {
    "hash": "9a65927f5967699fcd722c82a9c185cfa0040c4b95e3af20a6eefdab7483f21b"
   }
  }
 },
 "nbformat": 4,
 "nbformat_minor": 2
}
