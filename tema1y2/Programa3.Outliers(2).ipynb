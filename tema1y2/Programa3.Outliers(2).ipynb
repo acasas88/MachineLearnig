{
 "cells": [
  {
   "cell_type": "markdown",
   "metadata": {},
   "source": [
    "## DETECCIÓN DE OUTLIERS"
   ]
  },
  {
   "cell_type": "code",
   "execution_count": 1,
   "metadata": {},
   "outputs": [
    {
     "name": "stderr",
     "output_type": "stream",
     "text": [
      "c:\\Users\\acasa\\anaconda3\\lib\\site-packages\\scipy\\__init__.py:146: UserWarning: A NumPy version >=1.16.5 and <1.23.0 is required for this version of SciPy (detected version 1.23.5\n",
      "  warnings.warn(f\"A NumPy version >={np_minversion} and <{np_maxversion}\"\n"
     ]
    }
   ],
   "source": [
    "import pandas as pd\n",
    "import numpy as np\n",
    "from scipy import stats\n",
    "from sklearn.covariance import EllipticEnvelope\n",
    "import matplotlib.pyplot as plt"
   ]
  },
  {
   "cell_type": "code",
   "execution_count": 1,
   "metadata": {},
   "outputs": [
    {
     "ename": "NameError",
     "evalue": "name 'pd' is not defined",
     "output_type": "error",
     "traceback": [
      "\u001b[1;31m---------------------------------------------------------------------------\u001b[0m",
      "\u001b[1;31mNameError\u001b[0m                                 Traceback (most recent call last)",
      "\u001b[1;32m~\\AppData\\Local\\Temp/ipykernel_17392/471839212.py\u001b[0m in \u001b[0;36m<module>\u001b[1;34m\u001b[0m\n\u001b[0;32m      1\u001b[0m \u001b[1;31m# Carga de datos.\u001b[0m\u001b[1;33m\u001b[0m\u001b[1;33m\u001b[0m\u001b[0m\n\u001b[1;32m----> 2\u001b[1;33m \u001b[0mdf\u001b[0m \u001b[1;33m=\u001b[0m \u001b[0mpd\u001b[0m\u001b[1;33m.\u001b[0m\u001b[0mread_csv\u001b[0m\u001b[1;33m(\u001b[0m\u001b[1;34m\"./res/outliers.csv\"\u001b[0m\u001b[1;33m)\u001b[0m\u001b[1;33m\u001b[0m\u001b[1;33m\u001b[0m\u001b[0m\n\u001b[0m\u001b[0;32m      3\u001b[0m \u001b[0mprint\u001b[0m\u001b[1;33m(\u001b[0m\u001b[0mdf\u001b[0m\u001b[1;33m)\u001b[0m\u001b[1;33m\u001b[0m\u001b[1;33m\u001b[0m\u001b[0m\n",
      "\u001b[1;31mNameError\u001b[0m: name 'pd' is not defined"
     ]
    }
   ],
   "source": [
    "# Carga de datos.\n",
    "df = pd.read_csv(\"./res/outliers.csv\")\n",
    "print(df)"
   ]
  },
  {
   "cell_type": "markdown",
   "metadata": {},
   "source": [
    "### 1) EllipticEnvelope()"
   ]
  },
  {
   "cell_type": "code",
   "execution_count": 4,
   "metadata": {},
   "outputs": [
    {
     "name": "stdout",
     "output_type": "stream",
     "text": [
      "[ 1  1  1  1  1  1  1  1  1  1  1  1  1  1  1  1  1  1  1  1  1  1  1  1\n",
      "  1  1  1  1  1  1  1  1  1  1  1  1  1  1  1  1  1  1  1  1  1  1  1  1\n",
      "  1  1  1  1  1  1  1  1  1  1  1  1  1  1  1  1  1  1  1  1  1  1  1  1\n",
      "  1  1  1  1  1  1  1  1  1  1  1  1  1  1  1  1  1  1  1  1  1  1  1  1\n",
      "  1  1  1  1  1  1  1  1  1  1  1  1  1  1  1  1  1  1  1  1  1  1  1  1\n",
      "  1  1  1  1  1  1  1  1  1  1  1  1  1  1  1  1  1  1  1  1  1  1  1  1\n",
      "  1  1  1  1  1  1 -1 -1 -1 -1 -1 -1 -1 -1 -1 -1 -1 -1 -1 -1 -1 -1 -1 -1\n",
      " -1 -1 -1 -1 -1 -1 -1 -1 -1 -1 -1 -1 -1 -1 -1 -1 -1 -1 -1 -1 -1 -1 -1 -1\n",
      " -1 -1 -1 -1 -1 -1 -1 -1]\n",
      "\n",
      "Outliers en la posición: \n",
      " [150 151 152 153 154 155 156 157 158 159 160 161 162 163 164 165 166 167\n",
      " 168 169 170 171 172 173 174 175 176 177 178 179 180 181 182 183 184 185\n",
      " 186 187 188 189 190 191 192 193 194 195 196 197 198 199]\n",
      "\n",
      "Número de outliers: \n",
      " 50\n"
     ]
    }
   ],
   "source": [
    "# Entrenamos un objeto de tipo EllipticEnvelope\n",
    "algorithm = EllipticEnvelope(support_fraction=None, contamination=0.25, random_state=42)\n",
    "outlier_method = algorithm.fit(df)\n",
    "\n",
    "# Aplicamos el método de detección de outliers entrenado sobre nuesto dataset\n",
    "df_outliers = outlier_method.predict(df)\n",
    "print(df_outliers)\n",
    "\n",
    "# Determinar la posición de los outliers\n",
    "pos_outliers = np.where(df_outliers==-1)[0]\n",
    "print('\\nOutliers en la posición: \\n', pos_outliers)\n",
    "\n",
    "# Determinar el número de outliers\n",
    "print('\\nNúmero de outliers: \\n', len(pos_outliers))"
   ]
  },
  {
   "cell_type": "code",
   "execution_count": 5,
   "metadata": {},
   "outputs": [],
   "source": [
    "# Definimos una función que, dado un determinado \"df\" y un \"algorithm\", devuelva la matriz y la posición de outliers\n",
    "def find_outliers(df, algorithm):\n",
    "    \n",
    "    outlier_method = algorithm.fit(df)\n",
    "    df_outliers = outlier_method.predict(df)\n",
    "    pos_outliers = np.where(df_outliers==-1)[0]\n",
    "\n",
    "    return df_outliers, pos_outliers"
   ]
  },
  {
   "cell_type": "code",
   "execution_count": 6,
   "metadata": {},
   "outputs": [],
   "source": [
    "algorithm = EllipticEnvelope(support_fraction=None, contamination=0.25, random_state=42)\n",
    "\n",
    "\n",
    "df_outliers, pos_outliers = find_outliers(df, algorithm)"
   ]
  },
  {
   "cell_type": "code",
   "execution_count": null,
   "metadata": {},
   "outputs": [],
   "source": [
    "display ()"
   ]
  },
  {
   "cell_type": "markdown",
   "metadata": {},
   "source": [
    "### 2) Otros métodos similares"
   ]
  },
  {
   "cell_type": "code",
   "execution_count": 8,
   "metadata": {},
   "outputs": [
    {
     "name": "stdout",
     "output_type": "stream",
     "text": [
      "50\n"
     ]
    }
   ],
   "source": [
    "from sklearn.ensemble import IsolationForest\n",
    "from sklearn.svm import OneClassSVM\n",
    "from sklearn.neighbors import LocalOutlierFactor\n",
    "\n",
    "IF = IsolationForest(n_estimators=100, max_samples='auto', contamination='auto')\n",
    "\n",
    "# LOF = ???\n",
    "\n",
    "df_outliers, pos_outliers = find_outliers(df, IF)\n",
    "print(len(pos_outliers))"
   ]
  },
  {
   "cell_type": "code",
   "execution_count": null,
   "metadata": {},
   "outputs": [],
   "source": [
    "OC_SVM = OneClassSVM()"
   ]
  },
  {
   "cell_type": "code",
   "execution_count": null,
   "metadata": {},
   "outputs": [],
   "source": [
    "# Eliminamos los outliers\n",
    "new_df = df[df_outliers==1]\n",
    "print(new_df)"
   ]
  },
  {
   "cell_type": "markdown",
   "metadata": {},
   "source": [
    "### 3) Box plot"
   ]
  },
  {
   "cell_type": "code",
   "execution_count": 9,
   "metadata": {},
   "outputs": [
    {
     "name": "stdout",
     "output_type": "stream",
     "text": [
      "limite inferior:  -1.0853060827395105\n",
      "limite superior:  1.0119554520872196\n",
      "Posición de outliers:  [150 153 154 157 159 160 162 165 168 169 171 172 174 175 177 178 181 184\n",
      " 185 186 187 190 191 192 193 195 151 152 155 156 161 163 164 166 167 173\n",
      " 176 179 180 182 188 189 196 197]\n",
      "Número de outliers:  44\n"
     ]
    },
    {
     "data": {
      "image/png": "[encoded data removed]",
      "text/plain": [
       "<Figure size 432x288 with 1 Axes>"
      ]
     },
     "metadata": {
      "needs_background": "light"
     },
     "output_type": "display_data"
    }
   ],
   "source": [
    "# Seleccionamos el atributo que vamos a medir\n",
    "a = df['a']\n",
    "\n",
    "# Seleccionamos los umbrales a partir de los cuales vamos a considerar outliers\n",
    "Q1 = stats.scoreatpercentile(a, 25)\n",
    "Q3 = stats.scoreatpercentile(a, 75)\n",
    "RIC = Q3 - Q1\n",
    "li = Q1 - 1.5*RIC #xmin\n",
    "ls = Q3 + 1.5*RIC #xmax\n",
    "\n",
    "# Observamos los límites inferior y superior\n",
    "print('limite inferior: ', li)\n",
    "print('limite superior: ', ls)\n",
    "\n",
    "# Buscamos la posición de los outliers\n",
    "pos_i = np.where(a<li)[0]\n",
    "pos_s = np.where(a>ls)[0]\n",
    "pos_outliers = np.concatenate((pos_i, pos_s))\n",
    "print('Posición de outliers: ', pos_outliers)\n",
    "print('Número de outliers: ', len(pos_outliers))\n",
    "\n",
    "# Dibujamos el diagrama de caja y bigotes\n",
    "prop = plt.boxplot(a)\n",
    "plt.boxplot(a)\n",
    "plt.show()"
   ]
  },
  {
   "cell_type": "code",
   "execution_count": 10,
   "metadata": {},
   "outputs": [],
   "source": [
    "# Definir una función que, dada una columna de un dataframe, devuelva la posición de los outliers según el método box plot\n",
    "def find_limits_BP(variable):\n",
    "    \n",
    "    Q1 = stats.scoreatpercentile(a, 25)\n",
    "    Q3 = stats.scoreatpercentile(a, 75)\n",
    "    RIC = Q3 - Q1\n",
    "    li = Q1 - 1.5*RIC #xmin\n",
    "    ls = Q3 + 1.5*RIC #xmax\n",
    "\n",
    "    # Buscamos la posición de los outliers\n",
    "    pos_i = np.where(a<li)[0]\n",
    "    pos_s = np.where(a>ls)[0]\n",
    "    pos_outliers = np.concatenate((pos_i, pos_s))\n",
    "    \n",
    "    return pos_outliers\n"
   ]
  },
  {
   "cell_type": "code",
   "execution_count": 13,
   "metadata": {},
   "outputs": [],
   "source": [
    "# Creamos un bucle for que estime los valores outliers de cada atributo\n",
    "headers = df.columns # nombre de los atributos del CSV\n",
    "pos_outliers = []\n",
    "for i in range(len(headers)):\n",
    "    variable = df[headers[i]] # Atributo i\n",
    "    pos_out = find_limits_BP(variable) # Buscamos los outliers en esa variable con la función que hemos creado\n",
    "    pos_out = np.expand_dims(pos_out, axis=1) # Extpandimos las dimensiones\n",
    "    pos_outliers.append(pos_out) # Lo añadimos en una lista"
   ]
  },
  {
   "cell_type": "code",
   "execution_count": 14,
   "metadata": {},
   "outputs": [
    {
     "name": "stdout",
     "output_type": "stream",
     "text": [
      "Posiciones de outliers totales:  [150 151 152 153 154 155 156 157 159 160 161 162 163 164 165 166 167 168\n",
      " 169 171 172 173 174 175 176 177 178 179 180 181 182 184 185 186 187 188\n",
      " 189 190 191 192 193 195 196 197]\n",
      "Numero de outliers totales:  44\n"
     ]
    }
   ],
   "source": [
    "# Concatenamos todas las posiciones de outliers\n",
    "po = np.vstack(pos_outliers)\n",
    "\n",
    "# Vemos las posiciones de todos los outliers\n",
    "pos_out = np.unique(po)\n",
    "print('Posiciones de outliers totales: ', pos_out)\n",
    "\n",
    "# Observamos el número de outliers\n",
    "print('Numero de outliers totales: ', len(pos_out))"
   ]
  }
 ],
 "metadata": {
  "kernelspec": {
   "display_name": "Python 3.9.7 ('base')",
   "language": "python",
   "name": "python3"
  },
  "language_info": {
   "codemirror_mode": {
    "name": "ipython",
    "version": 3
   },
   "file_extension": ".py",
   "mimetype": "text/x-python",
   "name": "python",
   "nbconvert_exporter": "python",
   "pygments_lexer": "ipython3",
   "version": "3.9.7"
  },
  "vscode": {
   "interpreter": {
    "hash": "9a65927f5967699fcd722c82a9c185cfa0040c4b95e3af20a6eefdab7483f21b"
   }
  }
 },
 "nbformat": 4,
 "nbformat_minor": 2
}
