{
 "cells": [
  {
   "cell_type": "code",
   "execution_count": 1,
   "metadata": {},
   "outputs": [],
   "source": [
    "import numpy as np\n",
    "from sklearn.impute import SimpleImputer"
   ]
  },
  {
   "cell_type": "code",
   "execution_count": 2,
   "metadata": {},
   "outputs": [],
   "source": [
    "# Carga de datos\n",
    "X_train = [[1,      4], \n",
    "           [np.nan, 3], \n",
    "           [7,      8]]"
   ]
  },
  {
   "cell_type": "code",
   "execution_count": 4,
   "metadata": {},
   "outputs": [
    {
     "name": "stdout",
     "output_type": "stream",
     "text": [
      "[[1. 4.]\n",
      " [4. 3.]\n",
      " [7. 8.]]\n"
     ]
    }
   ],
   "source": [
    "# Limpieza de datos: imputación valores ausentes (modelo)\n",
    "imputer = SimpleImputer(strategy='mean') # Utilizamos la estrategia de la media\n",
    "\n",
    "# Aplicar los métodos \"fit\" y \"transform\" para imputar los valores pérdidos de X_train\n",
    "X_train_clean = imputer.fit_transform(X_train)\n",
    "print(X_train_clean)"
   ]
  },
  {
   "cell_type": "code",
   "execution_count": 5,
   "metadata": {},
   "outputs": [
    {
     "name": "stdout",
     "output_type": "stream",
     "text": [
      "[[ 4. 10.]\n",
      " [ 6.  5.]\n",
      " [ 8.  2.]]\n"
     ]
    }
   ],
   "source": [
    "# Imputación de valores ausentes sobre el conjunto de test\n",
    "X_test = [[np.nan, 10], \n",
    "          [6,      np.nan], \n",
    "          [8,      2]]\n",
    "\n",
    "# Imputar los datos del conjunto de test\n",
    "X_test_clean = imputer.transform(X_test)\n",
    "print(X_test_clean)"
   ]
  },
  {
   "cell_type": "markdown",
   "metadata": {},
   "source": [
    "# Ejemplo Pinguinos"
   ]
  },
  {
   "cell_type": "code",
   "execution_count": 3,
   "metadata": {},
   "outputs": [],
   "source": [
    "import pandas as pd\n",
    "import numpy as np\n",
    "from os import path\n",
    "from sklearn.impute import SimpleImputer"
   ]
  },
  {
   "cell_type": "code",
   "execution_count": 4,
   "metadata": {},
   "outputs": [],
   "source": [
    "csv = path.join('res','penguins.csv')\n",
    "csv = pd.read_csv(csv, sep=';')\n",
    "\n",
    "#csv = pd.read_csv('.\\res\\penguins.csv', sep = ';')"
   ]
  },
  {
   "cell_type": "code",
   "execution_count": 5,
   "metadata": {},
   "outputs": [
    {
     "name": "stdout",
     "output_type": "stream",
     "text": [
      "[[3.910e+01 1.870e+01 1.810e+02 3.750e+03 0.000e+00]\n",
      " [3.950e+01 1.740e+01 1.860e+02 3.800e+03 0.000e+00]\n",
      " [4.030e+01 1.800e+01 1.950e+02 3.250e+03 0.000e+00]\n",
      " ...\n",
      " [4.960e+01 1.820e+01 1.930e+02 3.775e+03 2.000e+00]\n",
      " [5.080e+01 1.900e+01 2.100e+02 4.100e+03 2.000e+00]\n",
      " [5.020e+01 1.870e+01 1.980e+02 3.775e+03 2.000e+00]]\n"
     ]
    }
   ],
   "source": [
    "data = np.array(csv)\n",
    "print(data)"
   ]
  },
  {
   "cell_type": "code",
   "execution_count": 7,
   "metadata": {},
   "outputs": [
    {
     "name": "stdout",
     "output_type": "stream",
     "text": [
      "[]\n"
     ]
    }
   ],
   "source": [
    "pos_ausentes= np.unique(np.where(np.isnan(data))[0])\n",
    "print(pos_ausentes)"
   ]
  },
  {
   "cell_type": "code",
   "execution_count": 8,
   "metadata": {},
   "outputs": [
    {
     "name": "stdout",
     "output_type": "stream",
     "text": [
      "[[3.910e+01 1.870e+01 1.810e+02 3.750e+03 0.000e+00]\n",
      " [3.950e+01 1.740e+01 1.860e+02 3.800e+03 0.000e+00]\n",
      " [4.030e+01 1.800e+01 1.950e+02 3.250e+03 0.000e+00]\n",
      " ...\n",
      " [4.960e+01 1.820e+01 1.930e+02 3.775e+03 2.000e+00]\n",
      " [5.080e+01 1.900e+01 2.100e+02 4.100e+03 2.000e+00]\n",
      " [5.020e+01 1.870e+01 1.980e+02 3.775e+03 2.000e+00]]\n"
     ]
    }
   ],
   "source": [
    "# Limpieza de datos: imputación valores ausentes (modelo)\n",
    "imputer = SimpleImputer(strategy='mean') # Utilizamos la estrategia de la media\n",
    "\n",
    "# Aplicar los métodos \"fit\" y \"transform\" para imputar los valores pérdidos de X_train\n",
    "data_clean = imputer.fit_transform(data)\n",
    "print(data_clean)"
   ]
  },
  {
   "cell_type": "code",
   "execution_count": 13,
   "metadata": {},
   "outputs": [
    {
     "name": "stdout",
     "output_type": "stream",
     "text": [
      "[]\n"
     ]
    }
   ],
   "source": [
    "pos_ausentes= np.unique(np.where(np.isnan(data_clean))[0])\n",
    "print(pos_ausentes)"
   ]
  },
  {
   "cell_type": "code",
   "execution_count": 18,
   "metadata": {},
   "outputs": [],
   "source": [
    "df = pd.DataFrame(data_clean, columns = [\"Culmen length\",\"Culmen depth\",\"Flipper length\",\"Body mass\",\"Especies\"])\n",
    "df.to_csv('./res/penguins_clean.csv', sep=';', index=False)"
   ]
  }
 ],
 "metadata": {
  "kernelspec": {
   "display_name": "Python 3.9.7 ('base')",
   "language": "python",
   "name": "python3"
  },
  "language_info": {
   "codemirror_mode": {
    "name": "ipython",
    "version": 3
   },
   "file_extension": ".py",
   "mimetype": "text/x-python",
   "name": "python",
   "nbconvert_exporter": "python",
   "pygments_lexer": "ipython3",
   "version": "3.9.7"
  },
  "vscode": {
   "interpreter": {
    "hash": "9a65927f5967699fcd722c82a9c185cfa0040c4b95e3af20a6eefdab7483f21b"
   }
  }
 },
 "nbformat": 4,
 "nbformat_minor": 4
}
