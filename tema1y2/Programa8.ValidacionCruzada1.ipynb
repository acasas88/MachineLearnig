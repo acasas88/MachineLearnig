{
 "cells": [
  {
   "cell_type": "code",
   "execution_count": 1,
   "metadata": {},
   "outputs": [],
   "source": [
    "from sklearn.model_selection import KFold"
   ]
  },
  {
   "cell_type": "code",
   "execution_count": 2,
   "metadata": {},
   "outputs": [],
   "source": [
    "# Carga de datos.\n",
    "X = [\"a\", \"b\", \"c\", \"d\", \"e\", \"f\", \"g\", \"h\", \"i\", \"j\"]"
   ]
  },
  {
   "cell_type": "code",
   "execution_count": 3,
   "metadata": {},
   "outputs": [
    {
     "name": "stdout",
     "output_type": "stream",
     "text": [
      "<generator object _BaseKFold.split at 0x000002D297FF90B0>\n"
     ]
    }
   ],
   "source": [
    "# Validación cruzada.\n",
    "kf = KFold(n_splits = 5, shuffle=True) # Shuffle permite aleatorizar las bolsas de test vez de hacer una lectura por orden \n",
    "bolsas = kf.split(X)\n",
    "print(bolsas)"
   ]
  },
  {
   "cell_type": "code",
   "execution_count": 4,
   "metadata": {},
   "outputs": [
    {
     "name": "stdout",
     "output_type": "stream",
     "text": [
      "Iteracion 1 :\n",
      " - Entrenamiento: [0 1 2 4 5 6 7 9]\n",
      " - Test: [3 8]\n",
      "Iteracion 2 :\n",
      " - Entrenamiento: [1 3 4 5 6 7 8 9]\n",
      " - Test: [0 2]\n",
      "Iteracion 3 :\n",
      " - Entrenamiento: [0 1 2 3 5 6 8 9]\n",
      " - Test: [4 7]\n",
      "Iteracion 4 :\n",
      " - Entrenamiento: [0 2 3 4 6 7 8 9]\n",
      " - Test: [1 5]\n",
      "Iteracion 5 :\n",
      " - Entrenamiento: [0 1 2 3 4 5 7 8]\n",
      " - Test: [6 9]\n"
     ]
    }
   ],
   "source": [
    "# Mostrar ejemplos de cada iteración.\n",
    "k = 1\n",
    "for train, test in bolsas:\n",
    "    print(\"Iteracion\", k, \":\")\n",
    "    print(\" - Entrenamiento: %s\" % (train)) \n",
    "    print(\" - Test: %s\" % (test))\n",
    "    k = k + 1"
   ]
  }
 ],
 "metadata": {
  "kernelspec": {
   "display_name": "base",
   "language": "python",
   "name": "python3"
  },
  "language_info": {
   "codemirror_mode": {
    "name": "ipython",
    "version": 3
   },
   "file_extension": ".py",
   "mimetype": "text/x-python",
   "name": "python",
   "nbconvert_exporter": "python",
   "pygments_lexer": "ipython3",
   "version": "3.9.7"
  },
  "vscode": {
   "interpreter": {
    "hash": "9a65927f5967699fcd722c82a9c185cfa0040c4b95e3af20a6eefdab7483f21b"
   }
  }
 },
 "nbformat": 4,
 "nbformat_minor": 2
}
