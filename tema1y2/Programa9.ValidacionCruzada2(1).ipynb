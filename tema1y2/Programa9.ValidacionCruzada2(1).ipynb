{
 "cells": [
  {
   "cell_type": "code",
   "execution_count": 1,
   "metadata": {},
   "outputs": [],
   "source": [
    "import numpy as np\n",
    "import pandas as pd\n",
    "from sklearn.dummy import DummyClassifier\n",
    "from sklearn.model_selection import cross_val_score\n",
    "from sklearn.model_selection import KFold\n",
    "from sklearn.model_selection import train_test_split\n",
    "from sklearn import preprocessing"
   ]
  },
  {
   "cell_type": "code",
   "execution_count": 2,
   "metadata": {},
   "outputs": [
    {
     "name": "stdout",
     "output_type": "stream",
     "text": [
      "          0         1           2            3    4\n",
      "0  39.10000  18.70000  181.000000  3750.000000  0.0\n",
      "1  39.50000  17.40000  186.000000  3800.000000  0.0\n",
      "2  40.30000  18.00000  195.000000  3250.000000  0.0\n",
      "3  43.92193  17.15117  200.915205  4201.754386  0.0\n",
      "4  36.70000  19.30000  193.000000  3450.000000  0.0\n"
     ]
    }
   ],
   "source": [
    "# Carga de datos.\n",
    "csv = pd.read_csv('./res/penguins.csv', sep=';')\n",
    "print(csv.head())\n",
    "\n",
    "\n"
   ]
  },
  {
   "cell_type": "code",
   "execution_count": 3,
   "metadata": {},
   "outputs": [],
   "source": [
    "# Convertir dataframe en numpy array\n",
    "data = np.array(csv)\n",
    "X = data[:,:-1]\n",
    "y = data[:,-1]"
   ]
  },
  {
   "cell_type": "code",
   "execution_count": 4,
   "metadata": {},
   "outputs": [
    {
     "name": "stdout",
     "output_type": "stream",
     "text": [
      "Tabla de datos: 344 instancias y 4 atributos\n",
      "Valores de la clase: {0.0, 1.0, 2.0}\n"
     ]
    }
   ],
   "source": [
    "# Mostrar características de la tabla de datos.\n",
    "print(\"Tabla de datos: %d instancias y %d atributos\" % (X.shape[0], X.shape[1]))\n",
    "print(\"Valores de la clase:\", set(y))"
   ]
  },
  {
   "cell_type": "code",
   "execution_count": 5,
   "metadata": {},
   "outputs": [
    {
     "name": "stdout",
     "output_type": "stream",
     "text": [
      "Test:  clases: [0. 1. 2.]  ocurrencias:  [32 24 13]\n",
      "Entrenamiento:   clases: [0. 1. 2.]   ocurrencias: [120 100  55]\n"
     ]
    }
   ],
   "source": [
    "# Test: hold-out split 80-20%. PARTICIÓN EXTERNA\n",
    "X_train, X_test, y_train, y_test = train_test_split(X,y, test_size=0.2, shuffle=True, random_state=42)\n",
    "\n",
    "valores_test, ocur_test = np.unique(y_test, return_counts=True)\n",
    "print('Test: ', 'clases:', valores_test, ' ocurrencias: ', ocur_test)\n",
    "\n",
    "valores_train, ocur_train = np.unique(y_train, return_counts=True)\n",
    "print('Entrenamiento: ', ' clases:', valores_train, '  ocurrencias:', ocur_train)"
   ]
  },
  {
   "cell_type": "code",
   "execution_count": 6,
   "metadata": {},
   "outputs": [],
   "source": [
    "# Estandarizar las características de entrenamiento y de test\n",
    "standardizer = preprocessing.StandardScaler()\n",
    "X_train = standardizer.fit_transform(X_train)\n",
    "X_test = standardizer.transform(X_test)"
   ]
  },
  {
   "cell_type": "code",
   "execution_count": 7,
   "metadata": {},
   "outputs": [
    {
     "name": "stdout",
     "output_type": "stream",
     "text": [
      "Resultados por bolsa:  [0.98181818 0.98181818 1.         0.98181818 0.98181818]\n",
      "Accuracy (media +/- desv.): 0.9855 +/- 0.0073\n"
     ]
    }
   ],
   "source": [
    "# Hacemos el cross-validation interno para seleccionar los mejores hiperparámetros\n",
    "from sklearn.svm import SVC\n",
    "svc = SVC(C=1, gamma='auto', kernel='linear')\n",
    "results = cross_val_score(svc, X_train, y_train, cv = KFold(n_splits=5, shuffle=True, random_state=42))\n",
    "print(\"Resultados por bolsa: \", results)\n",
    "print(\"Accuracy (media +/- desv.): %0.4f +/- %0.4f\" % (results.mean(), results.std()))"
   ]
  },
  {
   "cell_type": "code",
   "execution_count": 8,
   "metadata": {},
   "outputs": [
    {
     "data": {
      "text/plain": [
       "SVC(C=1, gamma='auto', kernel='linear')"
      ]
     },
     "execution_count": 8,
     "metadata": {},
     "output_type": "execute_result"
    }
   ],
   "source": [
    "# Una vez entrenado y validado el modelo para seleccionar los mejores hyperparameters, utilizamos todos los datos de \n",
    "# \"train\" y \"val\" para entrenar el modelo definitivo\n",
    "\n",
    "svc = SVC(C=1, gamma='auto', kernel='linear')\n",
    "svc.fit(X_train, y_train)\n"
   ]
  },
  {
   "cell_type": "code",
   "execution_count": 9,
   "metadata": {},
   "outputs": [
    {
     "name": "stdout",
     "output_type": "stream",
     "text": [
      "Exactitud en test:  97.10144927536231 %\n"
     ]
    }
   ],
   "source": [
    "# Calcular la accuracy del conjunto de test\n",
    "test_results = svc.score(X_test, y_test)\n",
    "print('Exactitud en test: ', test_results*100, '%')"
   ]
  },
  {
   "cell_type": "code",
   "execution_count": 11,
   "metadata": {},
   "outputs": [
    {
     "name": "stdout",
     "output_type": "stream",
     "text": [
      "Predicciones:      [1. 1. 1. 1. 2. 2. 2. 1. 0. 1. 2. 0. 0. 0. 2. 0. 0. 1. 2. 0. 0. 0. 1. 0.\n",
      " 1. 1. 0. 1. 0. 1. 0. 0. 1. 0. 0. 0. 2. 1. 0. 1. 2. 2. 2. 0. 2. 0. 1. 0.\n",
      " 0. 1. 0. 1. 2. 0. 0. 1. 0. 1. 1. 1. 1. 0. 2. 0. 2. 1. 2. 0. 0.]\n",
      "Etiquetas reales:  [1. 1. 1. 1. 2. 2. 2. 1. 0. 1. 2. 0. 0. 0. 2. 0. 0. 1. 2. 0. 0. 0. 1. 0.\n",
      " 1. 1. 0. 1. 0. 1. 0. 0. 1. 0. 0. 0. 2. 1. 0. 1. 2. 2. 2. 0. 0. 0. 1. 0.\n",
      " 0. 1. 0. 1. 2. 0. 0. 1. 0. 1. 1. 1. 1. 0. 2. 0. 2. 1. 0. 0. 0.]\n"
     ]
    }
   ],
   "source": [
    "# Extraer las predicciones, en lugar de directamente la accuracy\n",
    "y_pred = svc.predict(X_test)\n",
    "print('Predicciones:     ', y_pred)\n",
    "print('Etiquetas reales: ', y_test)"
   ]
  },
  {
   "cell_type": "markdown",
   "metadata": {},
   "source": []
  },
  {
   "cell_type": "code",
   "execution_count": 12,
   "metadata": {},
   "outputs": [
    {
     "name": "stdout",
     "output_type": "stream",
     "text": [
      "Exactitud: 0.971\n",
      "Precisión: 0.971\n",
      "Sensibilidad: 0.971\n",
      "F1-score: 0.971\n"
     ]
    }
   ],
   "source": [
    "import sklearn.metrics as metrics\n",
    "\n",
    "# Presentación de los resultados de la evaluación.\n",
    "print(\"Exactitud: %.3f\" % (metrics.accuracy_score(y_test, y_pred))) # accuracy\n",
    "print(\"Precisión: %.3f\" % (metrics.precision_score(y_test, y_pred, average=\"micro\"))) # precision\n",
    "print(\"Sensibilidad: %.3f\" % (metrics.recall_score(y_test, y_pred, average=\"micro\"))) # sensibilidad\n",
    "print(\"F1-score: %.3f\" % (metrics.f1_score(y_test, y_pred, average=\"micro\"))) # F-score"
   ]
  },
  {
   "cell_type": "code",
   "execution_count": 83,
   "metadata": {},
   "outputs": [],
   "source": [
    "\n",
    "import json\n",
    "\n",
    "msg = {\n",
    "\t\t\"text\": \"*X*\",\n",
    "\t\t\"attachments\":[{\n",
    "\t\t\t\"fields\": [{\n",
    "\t\t\t\t\"title\": \"Descripción:\",\n",
    "\t\t\t\t\"value\": \"x\"\n",
    "\t\t\t}],\n",
    "\t\t\t\"mrkdwn_in\":[\"text\",\"pretext\"],\n",
    "\t\t\t\"color\": \"#00FF7F\"\n",
    "\t\t}]\n",
    "\t}"
   ]
  },
  {
   "cell_type": "code",
   "execution_count": 84,
   "metadata": {},
   "outputs": [
    {
     "name": "stdout",
     "output_type": "stream",
     "text": [
      "{'text': '*Título Personalizado*', 'attachments': [{'fields': [{'title': 'Descripción:', 'value': 'INFO-WPI: MENSAJE PERSONALIZADO 10 merchants'}], 'mrkdwn_in': ['text', 'pretext'], 'color': '#FFFFF'}]}\n"
     ]
    }
   ],
   "source": [
    "i=10\n",
    "\n",
    "msg['text'] = '*Título Personalizado*' ##Personaliza Título\n",
    "msg['attachments'][0]['fields'][0]['value'] = f'INFO-WPI: MENSAJE PERSONALIZADO {i} merchants' ## Mensaje\n",
    "msg['attachments'][0]['color']='#FFFFF' ## Personaliza Color\n",
    "\n",
    "print(msg)\n",
    "\n"
   ]
  },
  {
   "cell_type": "code",
   "execution_count": 81,
   "metadata": {},
   "outputs": [
    {
     "name": "stdout",
     "output_type": "stream",
     "text": [
      "{'text': '*Título Personalizado*', 'attachments': [{'fields': [{'title': 'Descripción:', 'value': 'INFO-WPI: MENSAJE PERSONALIZADO 10 merchants'}], 'mrkdwn_in': ['text', 'pretext'], 'color': '#FFFFF'}]}\n"
     ]
    }
   ],
   "source": []
  },
  {
   "cell_type": "code",
   "execution_count": 55,
   "metadata": {},
   "outputs": [
    {
     "ename": "TypeError",
     "evalue": "list indices must be integers or slices, not str",
     "output_type": "error",
     "traceback": [
      "\u001b[1;31m---------------------------------------------------------------------------\u001b[0m",
      "\u001b[1;31mTypeError\u001b[0m                                 Traceback (most recent call last)",
      "\u001b[1;32m~\\AppData\\Local\\Temp/ipykernel_28960/953274717.py\u001b[0m in \u001b[0;36m<module>\u001b[1;34m\u001b[0m\n\u001b[1;32m----> 1\u001b[1;33m \u001b[1;33m(\u001b[0m\u001b[0mmsg\u001b[0m\u001b[1;33m[\u001b[0m\u001b[1;34m'attachments'\u001b[0m\u001b[1;33m]\u001b[0m\u001b[1;33m)\u001b[0m\u001b[1;33m[\u001b[0m\u001b[1;34m'fields'\u001b[0m\u001b[1;33m]\u001b[0m\u001b[1;33m\u001b[0m\u001b[1;33m\u001b[0m\u001b[0m\n\u001b[0m",
      "\u001b[1;31mTypeError\u001b[0m: list indices must be integers or slices, not str"
     ]
    }
   ],
   "source": [
    "(msg['attachments'])['fields']"
   ]
  },
  {
   "cell_type": "code",
   "execution_count": 43,
   "metadata": {},
   "outputs": [
    {
     "ename": "AttributeError",
     "evalue": "'dict' object has no attribute 'format'",
     "output_type": "error",
     "traceback": [
      "\u001b[1;31m---------------------------------------------------------------------------\u001b[0m",
      "\u001b[1;31mAttributeError\u001b[0m                            Traceback (most recent call last)",
      "\u001b[1;32m~\\AppData\\Local\\Temp/ipykernel_28960/3894054547.py\u001b[0m in \u001b[0;36m<module>\u001b[1;34m\u001b[0m\n\u001b[0;32m      1\u001b[0m \u001b[0mi\u001b[0m\u001b[1;33m=\u001b[0m\u001b[1;36m10\u001b[0m\u001b[1;33m\u001b[0m\u001b[1;33m\u001b[0m\u001b[0m\n\u001b[0;32m      2\u001b[0m \u001b[0mmessage_t\u001b[0m\u001b[1;33m=\u001b[0m\u001b[1;34mf'INFO-WPI: Se realizó la predicción para {i} merchants'\u001b[0m\u001b[1;33m\u001b[0m\u001b[1;33m\u001b[0m\u001b[0m\n\u001b[1;32m----> 3\u001b[1;33m \u001b[0mmsg\u001b[0m\u001b[1;33m.\u001b[0m\u001b[0mformat\u001b[0m\u001b[1;33m(\u001b[0m\u001b[0mslack_message\u001b[0m\u001b[1;33m=\u001b[0m\u001b[0mmessage_t\u001b[0m\u001b[1;33m)\u001b[0m\u001b[1;33m\u001b[0m\u001b[1;33m\u001b[0m\u001b[0m\n\u001b[0m",
      "\u001b[1;31mAttributeError\u001b[0m: 'dict' object has no attribute 'format'"
     ]
    }
   ],
   "source": [
    "i=10\n",
    "message_t=f'INFO-WPI: Se realizó la predicción para {i} merchants'\n",
    "msg.format(slack_message=message_t)"
   ]
  },
  {
   "cell_type": "code",
   "execution_count": 34,
   "metadata": {},
   "outputs": [
    {
     "ename": "KeyError",
     "evalue": "\"'text'\"",
     "output_type": "error",
     "traceback": [
      "\u001b[1;31m---------------------------------------------------------------------------\u001b[0m",
      "\u001b[1;31mKeyError\u001b[0m                                  Traceback (most recent call last)",
      "\u001b[1;32m~\\AppData\\Local\\Temp/ipykernel_28960/181640341.py\u001b[0m in \u001b[0;36m<module>\u001b[1;34m\u001b[0m\n\u001b[0;32m      1\u001b[0m \u001b[0mi\u001b[0m\u001b[1;33m=\u001b[0m\u001b[1;36m10\u001b[0m\u001b[1;33m\u001b[0m\u001b[1;33m\u001b[0m\u001b[0m\n\u001b[0;32m      2\u001b[0m \u001b[0mmessage_t\u001b[0m\u001b[1;33m=\u001b[0m\u001b[1;34mf'INFO-WPI: Se realizó la predicción para {i} merchants'\u001b[0m\u001b[1;33m\u001b[0m\u001b[1;33m\u001b[0m\u001b[0m\n\u001b[1;32m----> 3\u001b[1;33m \u001b[0mencoded_msg\u001b[0m \u001b[1;33m=\u001b[0m \u001b[0mjson\u001b[0m\u001b[1;33m.\u001b[0m\u001b[0mdumps\u001b[0m\u001b[1;33m(\u001b[0m\u001b[0mstr\u001b[0m\u001b[1;33m(\u001b[0m\u001b[0mmsg\u001b[0m\u001b[1;33m)\u001b[0m\u001b[1;33m.\u001b[0m\u001b[0mformat\u001b[0m\u001b[1;33m(\u001b[0m\u001b[0mslack_message\u001b[0m\u001b[1;33m=\u001b[0m\u001b[0mmessage_t\u001b[0m\u001b[1;33m)\u001b[0m\u001b[1;33m)\u001b[0m\u001b[1;33m\u001b[0m\u001b[1;33m\u001b[0m\u001b[0m\n\u001b[0m",
      "\u001b[1;31mKeyError\u001b[0m: \"'text'\""
     ]
    }
   ],
   "source": [
    " i=10\n",
    " message_t=f'INFO-WPI: Se realizó la predicción para {i} merchants'\n",
    " encoded_msg = json.dumps(str(msg).format(slack_message=message_t))"
   ]
  }
 ],
 "metadata": {
  "kernelspec": {
   "display_name": "base",
   "language": "python",
   "name": "python3"
  },
  "language_info": {
   "codemirror_mode": {
    "name": "ipython",
    "version": 3
   },
   "file_extension": ".py",
   "mimetype": "text/x-python",
   "name": "python",
   "nbconvert_exporter": "python",
   "pygments_lexer": "ipython3",
   "version": "3.9.7"
  },
  "vscode": {
   "interpreter": {
    "hash": "9a65927f5967699fcd722c82a9c185cfa0040c4b95e3af20a6eefdab7483f21b"
   }
  }
 },
 "nbformat": 4,
 "nbformat_minor": 2
}
