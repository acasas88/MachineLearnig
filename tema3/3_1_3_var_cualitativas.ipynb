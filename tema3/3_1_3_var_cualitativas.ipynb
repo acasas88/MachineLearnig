{
 "cells": [
  {
   "cell_type": "code",
   "execution_count": 1,
   "metadata": {},
   "outputs": [],
   "source": [
    "# Creación aleatoria de datos\n",
    "import numpy as np\n",
    "import random\n",
    "random.seed(42)"
   ]
  },
  {
   "cell_type": "code",
   "execution_count": 3,
   "metadata": {},
   "outputs": [],
   "source": [
    "nivel_estudios = []\n",
    "nivel_estudios.extend(['Secundaria']*110)\n",
    "nivel_estudios.extend(['Bachillerato']*172)\n",
    "nivel_estudios.extend(['Grado']*145)\n",
    "nivel_estudios.extend(['Master']*52)\n",
    "nivel_estudios.extend(['Doctorado']*21)\n",
    "\n",
    "nivel_estudios = np.random.permutation(nivel_estudios)"
   ]
  },
  {
   "cell_type": "code",
   "execution_count": 4,
   "metadata": {},
   "outputs": [
    {
     "name": "stdout",
     "output_type": "stream",
     "text": [
      "['Bachillerato' 'Grado' 'Grado' 'Doctorado' 'Grado' 'Master' 'Grado'\n",
      " 'Bachillerato' 'Bachillerato' 'Grado' 'Bachillerato' 'Bachillerato'\n",
      " 'Grado' 'Secundaria' 'Doctorado' 'Bachillerato' 'Bachillerato' 'Grado'\n",
      " 'Master' 'Doctorado' 'Secundaria' 'Bachillerato' 'Master' 'Secundaria'\n",
      " 'Grado' 'Secundaria' 'Grado' 'Bachillerato' 'Bachillerato' 'Bachillerato'\n",
      " 'Grado' 'Grado' 'Grado' 'Grado' 'Bachillerato' 'Grado' 'Secundaria'\n",
      " 'Secundaria' 'Doctorado' 'Secundaria' 'Grado' 'Grado' 'Grado'\n",
      " 'Secundaria' 'Bachillerato' 'Secundaria' 'Bachillerato' 'Bachillerato'\n",
      " 'Secundaria' 'Bachillerato' 'Master' 'Grado' 'Master' 'Grado'\n",
      " 'Bachillerato' 'Secundaria' 'Bachillerato' 'Bachillerato' 'Doctorado'\n",
      " 'Bachillerato' 'Bachillerato' 'Secundaria' 'Secundaria' 'Secundaria'\n",
      " 'Grado' 'Bachillerato' 'Grado' 'Bachillerato' 'Bachillerato' 'Secundaria'\n",
      " 'Bachillerato' 'Secundaria' 'Master' 'Master' 'Secundaria' 'Bachillerato'\n",
      " 'Secundaria' 'Secundaria' 'Grado' 'Bachillerato' 'Secundaria'\n",
      " 'Secundaria' 'Bachillerato' 'Bachillerato' 'Secundaria' 'Grado'\n",
      " 'Bachillerato' 'Secundaria' 'Grado' 'Secundaria' 'Bachillerato'\n",
      " 'Secundaria' 'Secundaria' 'Master' 'Secundaria' 'Secundaria'\n",
      " 'Bachillerato' 'Grado' 'Bachillerato' 'Bachillerato' 'Grado' 'Grado'\n",
      " 'Bachillerato' 'Bachillerato' 'Secundaria' 'Grado' 'Grado' 'Master'\n",
      " 'Secundaria' 'Grado' 'Grado' 'Secundaria' 'Secundaria' 'Doctorado'\n",
      " 'Bachillerato' 'Grado' 'Grado' 'Master' 'Secundaria' 'Master' 'Grado'\n",
      " 'Secundaria' 'Bachillerato' 'Bachillerato' 'Bachillerato' 'Secundaria'\n",
      " 'Secundaria' 'Bachillerato' 'Bachillerato' 'Grado' 'Bachillerato' 'Grado'\n",
      " 'Bachillerato' 'Grado' 'Doctorado' 'Bachillerato' 'Grado' 'Bachillerato'\n",
      " 'Bachillerato' 'Grado' 'Secundaria' 'Bachillerato' 'Bachillerato'\n",
      " 'Bachillerato' 'Bachillerato' 'Grado' 'Master' 'Grado' 'Bachillerato'\n",
      " 'Doctorado' 'Bachillerato' 'Secundaria' 'Grado' 'Doctorado'\n",
      " 'Bachillerato' 'Bachillerato' 'Bachillerato' 'Secundaria' 'Bachillerato'\n",
      " 'Doctorado' 'Master' 'Grado' 'Grado' 'Bachillerato' 'Grado' 'Master'\n",
      " 'Bachillerato' 'Grado' 'Bachillerato' 'Bachillerato' 'Master' 'Doctorado'\n",
      " 'Bachillerato' 'Grado' 'Grado' 'Bachillerato' 'Grado' 'Master'\n",
      " 'Bachillerato' 'Bachillerato' 'Bachillerato' 'Grado' 'Grado' 'Grado'\n",
      " 'Secundaria' 'Bachillerato' 'Master' 'Secundaria' 'Grado' 'Grado'\n",
      " 'Bachillerato' 'Doctorado' 'Bachillerato' 'Grado' 'Bachillerato'\n",
      " 'Bachillerato' 'Grado' 'Bachillerato' 'Grado' 'Secundaria' 'Grado'\n",
      " 'Secundaria' 'Grado' 'Grado' 'Grado' 'Secundaria' 'Secundaria'\n",
      " 'Secundaria' 'Secundaria' 'Grado' 'Secundaria' 'Secundaria' 'Secundaria'\n",
      " 'Bachillerato' 'Secundaria' 'Secundaria' 'Bachillerato' 'Secundaria'\n",
      " 'Master' 'Grado' 'Secundaria' 'Secundaria' 'Grado' 'Master'\n",
      " 'Bachillerato' 'Bachillerato' 'Master' 'Master' 'Bachillerato'\n",
      " 'Bachillerato' 'Grado' 'Grado' 'Master' 'Secundaria' 'Bachillerato'\n",
      " 'Grado' 'Bachillerato' 'Bachillerato' 'Bachillerato' 'Grado' 'Grado'\n",
      " 'Grado' 'Master' 'Master' 'Master' 'Secundaria' 'Secundaria' 'Grado'\n",
      " 'Bachillerato' 'Grado' 'Grado' 'Bachillerato' 'Grado' 'Secundaria'\n",
      " 'Grado' 'Bachillerato' 'Secundaria' 'Grado' 'Grado' 'Secundaria'\n",
      " 'Secundaria' 'Bachillerato' 'Bachillerato' 'Bachillerato' 'Secundaria'\n",
      " 'Doctorado' 'Bachillerato' 'Grado' 'Grado' 'Master' 'Master' 'Grado'\n",
      " 'Secundaria' 'Secundaria' 'Grado' 'Bachillerato' 'Secundaria'\n",
      " 'Bachillerato' 'Secundaria' 'Bachillerato' 'Bachillerato' 'Grado'\n",
      " 'Bachillerato' 'Grado' 'Grado' 'Doctorado' 'Master' 'Bachillerato'\n",
      " 'Secundaria' 'Bachillerato' 'Bachillerato' 'Grado' 'Bachillerato'\n",
      " 'Secundaria' 'Bachillerato' 'Secundaria' 'Bachillerato' 'Grado'\n",
      " 'Secundaria' 'Bachillerato' 'Secundaria' 'Bachillerato' 'Secundaria'\n",
      " 'Bachillerato' 'Grado' 'Grado' 'Master' 'Bachillerato' 'Bachillerato'\n",
      " 'Grado' 'Bachillerato' 'Bachillerato' 'Bachillerato' 'Grado'\n",
      " 'Bachillerato' 'Grado' 'Secundaria' 'Grado' 'Bachillerato' 'Secundaria'\n",
      " 'Master' 'Bachillerato' 'Secundaria' 'Grado' 'Grado' 'Bachillerato'\n",
      " 'Bachillerato' 'Master' 'Grado' 'Bachillerato' 'Grado' 'Secundaria'\n",
      " 'Bachillerato' 'Bachillerato' 'Master' 'Doctorado' 'Bachillerato'\n",
      " 'Bachillerato' 'Grado' 'Bachillerato' 'Secundaria' 'Grado' 'Grado'\n",
      " 'Bachillerato' 'Master' 'Secundaria' 'Bachillerato' 'Grado' 'Grado'\n",
      " 'Grado' 'Bachillerato' 'Bachillerato' 'Grado' 'Master' 'Bachillerato'\n",
      " 'Bachillerato' 'Master' 'Master' 'Bachillerato' 'Bachillerato'\n",
      " 'Bachillerato' 'Bachillerato' 'Grado' 'Bachillerato' 'Secundaria'\n",
      " 'Master' 'Secundaria' 'Bachillerato' 'Grado' 'Bachillerato'\n",
      " 'Bachillerato' 'Bachillerato' 'Grado' 'Grado' 'Bachillerato' 'Secundaria'\n",
      " 'Secundaria' 'Bachillerato' 'Bachillerato' 'Bachillerato' 'Grado' 'Grado'\n",
      " 'Bachillerato' 'Master' 'Grado' 'Bachillerato' 'Secundaria' 'Master'\n",
      " 'Grado' 'Bachillerato' 'Secundaria' 'Master' 'Master' 'Bachillerato'\n",
      " 'Master' 'Grado' 'Secundaria' 'Grado' 'Master' 'Master' 'Doctorado'\n",
      " 'Secundaria' 'Bachillerato' 'Doctorado' 'Bachillerato' 'Secundaria'\n",
      " 'Bachillerato' 'Secundaria' 'Bachillerato' 'Secundaria' 'Grado' 'Grado'\n",
      " 'Grado' 'Master' 'Bachillerato' 'Bachillerato' 'Doctorado' 'Bachillerato'\n",
      " 'Bachillerato' 'Bachillerato' 'Bachillerato' 'Master' 'Grado'\n",
      " 'Secundaria' 'Grado' 'Secundaria' 'Secundaria' 'Grado' 'Bachillerato'\n",
      " 'Grado' 'Bachillerato' 'Bachillerato' 'Grado' 'Master' 'Secundaria'\n",
      " 'Bachillerato' 'Bachillerato' 'Secundaria' 'Secundaria' 'Grado'\n",
      " 'Secundaria' 'Master' 'Grado' 'Secundaria' 'Bachillerato' 'Grado' 'Grado'\n",
      " 'Grado' 'Secundaria' 'Bachillerato' 'Grado' 'Grado' 'Bachillerato'\n",
      " 'Bachillerato' 'Bachillerato' 'Grado' 'Grado' 'Bachillerato' 'Secundaria'\n",
      " 'Bachillerato' 'Secundaria' 'Bachillerato' 'Bachillerato' 'Doctorado'\n",
      " 'Secundaria' 'Grado' 'Master' 'Grado' 'Grado' 'Secundaria' 'Grado'\n",
      " 'Grado' 'Bachillerato' 'Secundaria' 'Bachillerato' 'Master' 'Doctorado'\n",
      " 'Secundaria' 'Grado' 'Secundaria' 'Secundaria' 'Secundaria' 'Grado'\n",
      " 'Grado' 'Secundaria' 'Grado' 'Master' 'Grado' 'Bachillerato' 'Grado'\n",
      " 'Grado' 'Bachillerato' 'Bachillerato' 'Grado' 'Secundaria' 'Doctorado'\n",
      " 'Grado' 'Master' 'Bachillerato' 'Grado']\n"
     ]
    }
   ],
   "source": [
    "print(nivel_estudios)"
   ]
  },
  {
   "cell_type": "code",
   "execution_count": 5,
   "metadata": {},
   "outputs": [
    {
     "name": "stdout",
     "output_type": "stream",
     "text": [
      "['Bachillerato' 'Doctorado' 'Grado' 'Master' 'Secundaria'] [172  21 145  52 110]\n"
     ]
    }
   ],
   "source": [
    "# DIAGRAMA DE BARRAS\n",
    "import matplotlib.pyplot as plt\n",
    "import numpy as np\n",
    "estudios, frecuencia = np.unique(nivel_estudios, return_counts=True)\n",
    "print(estudios, frecuencia)"
   ]
  },
  {
   "cell_type": "code",
   "execution_count": 6,
   "metadata": {},
   "outputs": [
    {
     "data": {
      "image/png": "[encoded data removed]",
      "text/plain": [
       "<Figure size 432x288 with 1 Axes>"
      ]
     },
     "metadata": {
      "needs_background": "light"
     },
     "output_type": "display_data"
    }
   ],
   "source": [
    "plt.ylabel('Frecuencia absoluta')\n",
    "plt.xlabel('Nivel de estudios')\n",
    "plt.title('Diagrama de barras')\n",
    "plt.bar(estudios, frecuencia) # https://matplotlib.org/stable/api/_as_gen/matplotlib.pyplot.bar.html\n",
    "plt.show()"
   ]
  },
  {
   "cell_type": "code",
   "execution_count": 7,
   "metadata": {},
   "outputs": [
    {
     "data": {
      "image/png": "[encoded data removed]",
      "text/plain": [
       "<Figure size 432x288 with 1 Axes>"
      ]
     },
     "metadata": {},
     "output_type": "display_data"
    }
   ],
   "source": [
    "# DIAGRAMA DE SECTORES\n",
    "colores = {'red', 'blue', 'orange', 'green', 'cyan'}\n",
    "plt.pie(frecuencia, labels=estudios, colors=colores, autopct='%1.2f%%')\n",
    "plt.title('Diagrama de sectores')\n",
    "plt.show()"
   ]
  }
 ],
 "metadata": {
  "kernelspec": {
   "display_name": "base",
   "language": "python",
   "name": "python3"
  },
  "language_info": {
   "codemirror_mode": {
    "name": "ipython",
    "version": 3
   },
   "file_extension": ".py",
   "mimetype": "text/x-python",
   "name": "python",
   "nbconvert_exporter": "python",
   "pygments_lexer": "ipython3",
   "version": "3.9.7"
  },
  "vscode": {
   "interpreter": {
    "hash": "9a65927f5967699fcd722c82a9c185cfa0040c4b95e3af20a6eefdab7483f21b"
   }
  }
 },
 "nbformat": 4,
 "nbformat_minor": 2
}
