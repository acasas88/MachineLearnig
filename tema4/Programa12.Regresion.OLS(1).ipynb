{
 "cells": [
  {
   "cell_type": "code",
   "execution_count": 5,
   "metadata": {},
   "outputs": [],
   "source": [
    "import numpy as np\n",
    "from math import sqrt\n",
    "from pprint import pprint\n",
    "from sklearn import datasets, linear_model, metrics\n",
    "from sklearn.dummy import DummyRegressor\n",
    "from sklearn.model_selection import cross_validate, KFold, cross_val_predict, train_test_split, cross_val_score\n",
    "from sklearn import preprocessing\n",
    "from sklearn.metrics import make_scorer, mean_squared_error\n",
    "import matplotlib.pyplot as plt"
   ]
  },
  {
   "cell_type": "code",
   "execution_count": 6,
   "metadata": {},
   "outputs": [
    {
     "name": "stdout",
     "output_type": "stream",
     "text": [
      "Dimensiones de X:  (506, 13)\n"
     ]
    }
   ],
   "source": [
    "# Carga de datos.\n",
    "datos = datasets.load_boston()\n",
    "# datos = datasets.fetch_california_housing()\n",
    "X = datos.data\n",
    "y = datos.target\n",
    "print('Dimensiones de X: ', np.shape(X))\n",
    "# print(y)"
   ]
  },
  {
   "cell_type": "code",
   "execution_count": 7,
   "metadata": {},
   "outputs": [],
   "source": [
    "# # Métricas de evaluación.\n",
    "metricas = {\n",
    "  'MAE':  'neg_mean_absolute_error',\n",
    "  'RMSE': make_scorer(lambda y, y_pred:\n",
    "                      sqrt(metrics.mean_squared_error(y, y_pred)),\n",
    "                      greater_is_better=False),\n",
    "  'MAPE': make_scorer(lambda y, y_pred:\n",
    "                      np.mean(np.abs((y - y_pred) / y)) * 100,\n",
    "                      greater_is_better=False),\n",
    "  'R2':   'r2',}"
   ]
  },
  {
   "cell_type": "code",
   "execution_count": 8,
   "metadata": {},
   "outputs": [
    {
     "name": "stdout",
     "output_type": "stream",
     "text": [
      "(404, 13)\n"
     ]
    }
   ],
   "source": [
    "# 1) Partición de datos externa\n",
    "X_training, X_testing, y_training, y_testing = train_test_split(X, y, test_size=0.2, random_state=42)\n",
    "print(np.shape(X_training))"
   ]
  },
  {
   "cell_type": "code",
   "execution_count": 9,
   "metadata": {},
   "outputs": [],
   "source": [
    "# 2) Extracción de características\n",
    "# 3) Estandarización de los datos de entrenamiento\n",
    "standardizer = preprocessing.StandardScaler()\n",
    "stdr_trained = standardizer.fit(X_training)\n",
    "X_stdr = stdr_trained.transform(X_training)\n",
    "\n",
    "# 4) Selección de atributos"
   ]
  },
  {
   "cell_type": "code",
   "execution_count": 10,
   "metadata": {},
   "outputs": [],
   "source": [
    "# 5) Construcción del algoritmo de aprendizaje.\n",
    "reg = linear_model.LinearRegression(fit_intercept=True)"
   ]
  },
  {
   "cell_type": "code",
   "execution_count": 11,
   "metadata": {},
   "outputs": [
    {
     "name": "stdout",
     "output_type": "stream",
     "text": [
      "{'fit_time': array([0.10222936, 0.00199747, 0.0025084 , 0.00147295, 0.00125027]),\n",
      " 'score_time': array([0.00383162, 0.        , 0.        , 0.0010221 , 0.00101185]),\n",
      " 'test_MAE': array([-3.21076048, -3.49646957, -3.77356487, -3.92171483, -2.73953332]),\n",
      " 'test_MAPE': array([-16.11181729, -16.67498664, -16.99058036, -18.78184408,\n",
      "       -16.5622129 ]),\n",
      " 'test_R2': array([0.6724828 , 0.76007223, 0.58945002, 0.75917498, 0.81121207]),\n",
      " 'test_RMSE': array([-4.82560235, -4.85434331, -6.03941383, -5.07501498, -3.5370237 ])}\n"
     ]
    }
   ],
   "source": [
    "# 5.1) Validación cruzada interna\n",
    "\n",
    "# Extraer directamente resultados del error para cada bolsa, en lugar de las predicciones\n",
    "cross_val_results = cross_validate(reg, X_stdr, y_training, \n",
    "                                    cv = KFold(n_splits=5, shuffle=True, random_state=42), scoring=metricas)\n",
    "#print(\"cross_val_MAE:   %0.4f +/- %0.4f\" % (-cross_val_results.mean(), cross_val_results.std()))\n",
    "pprint(cross_val_results)"
   ]
  },
  {
   "cell_type": "code",
   "execution_count": 12,
   "metadata": {},
   "outputs": [
    {
     "name": "stdout",
     "output_type": "stream",
     "text": [
      "Model coeficients: \n",
      " [-1.00213533  0.69626862  0.27806485  0.7187384  -2.0223194   3.14523956\n",
      " -0.17604788 -3.0819076   2.25140666 -1.76701378 -2.03775151  1.12956831\n",
      " -3.61165842]\n",
      "\n",
      "Término independiente:  22.796534653465375\n"
     ]
    }
   ],
   "source": [
    "# 5.2) Entrenamiento con todos los datos para obtener los coeficientes del modelo.\n",
    "model = reg.fit(X_stdr, y_training)\n",
    "\n",
    "# Obtención de los coeficientes del modelo.\n",
    "w = model.coef_\n",
    "print('Model coeficients: \\n', w)\n",
    "\n",
    "# Obtención del término independiente del modelo.\n",
    "w_0 = model.intercept_\n",
    "print('\\nTérmino independiente: ', w_0)"
   ]
  },
  {
   "cell_type": "code",
   "execution_count": 13,
   "metadata": {},
   "outputs": [],
   "source": [
    "# ---- PREDICCIÓN ---- #"
   ]
  },
  {
   "cell_type": "code",
   "execution_count": 14,
   "metadata": {},
   "outputs": [],
   "source": [
    "# 6) Extracción de las características de test\n",
    "# 7) Selección de los atributos de test \n",
    "# 8) Estandarización de las característiacs de test\n",
    "X_test_stdr = stdr_trained.transform(X_testing)"
   ]
  },
  {
   "cell_type": "code",
   "execution_count": 15,
   "metadata": {},
   "outputs": [],
   "source": [
    "# 9) Predicción del conjunto de test\n",
    "y_pred_test = model.predict(X_test_stdr)"
   ]
  },
  {
   "cell_type": "code",
   "execution_count": 16,
   "metadata": {},
   "outputs": [
    {
     "name": "stdout",
     "output_type": "stream",
     "text": [
      "MAE:  3.1891\n",
      "MSE: 24.2911\n",
      "RMSE: 4.9286\n",
      "MAPE: 0.1687\n",
      "R2:   0.6688\n"
     ]
    }
   ],
   "source": [
    "# Cálculo de las métricas de evaluación.\n",
    "MAE = metrics.mean_absolute_error(y_testing, y_pred_test)\n",
    "MSE = metrics.mean_squared_error(y_testing, y_pred_test, squared=True)\n",
    "RMSE = metrics.mean_squared_error(y_testing, y_pred_test, squared=False)\n",
    "MAPE = metrics.mean_absolute_percentage_error(y_testing, y_pred_test)\n",
    "R2 = metrics.r2_score(y_testing, y_pred_test)\n",
    "\n",
    "print('MAE:  %.4f' % MAE)\n",
    "print('MSE: %.4f' % MSE)\n",
    "print('RMSE: %.4f' % RMSE)\n",
    "print('MAPE: %.4f' % MAPE)\n",
    "print('R2:   %.4f' % R2)"
   ]
  },
  {
   "cell_type": "code",
   "execution_count": 17,
   "metadata": {},
   "outputs": [],
   "source": [
    "# Get regression graphics\n",
    "def report_regression_graphics(y_true, y_pred):\n",
    "    fig, ax = plt.subplots(2,1)\n",
    "\n",
    "    # Plot linear fit\n",
    "    ax[0].scatter(y_true, y_pred)\n",
    "    ax[0].set_ylabel('y_pred')\n",
    "    ax[0].set_title('Regression line')\n",
    "    ax[0].grid()\n",
    "    # overlay the regression line\n",
    "    z = np.polyfit(np.float64(y_true), y_pred, 1)\n",
    "    p = np.poly1d(z)\n",
    "    ax[0].plot(y_true, p(y_true), color='magenta')\n",
    "\n",
    "    # Plot bisectriz\n",
    "    ax[1].scatter(y_true, y_pred, edgecolors=(0, 0, 0))\n",
    "    ax[1].set_xlabel('y_true')\n",
    "    ax[1].set_ylabel('y_pred')\n",
    "    ax[1].set_title('Bisector')\n",
    "    ax[1].plot([y_true.min(), y_true.max()], [y_true.min(), y_true.max()], 'k--', lw=4)\n",
    "    ax[1].grid()"
   ]
  },
  {
   "cell_type": "code",
   "execution_count": 18,
   "metadata": {},
   "outputs": [
    {
     "data": {
      "image/png": "[encoded data removed]",
      "text/plain": [
       "<Figure size 432x288 with 2 Axes>"
      ]
     },
     "metadata": {
      "needs_background": "light"
     },
     "output_type": "display_data"
    }
   ],
   "source": [
    "# Extraemos los resultados cualitativos del problema de regresión\n",
    "report_regression_graphics(y_testing, y_pred_test)"
   ]
  }
 ],
 "metadata": {
  "kernelspec": {
   "display_name": "base",
   "language": "python",
   "name": "python3"
  },
  "language_info": {
   "codemirror_mode": {
    "name": "ipython",
    "version": 3
   },
   "file_extension": ".py",
   "mimetype": "text/x-python",
   "name": "python",
   "nbconvert_exporter": "python",
   "pygments_lexer": "ipython3",
   "version": "3.9.7"
  },
  "vscode": {
   "interpreter": {
    "hash": "9a65927f5967699fcd722c82a9c185cfa0040c4b95e3af20a6eefdab7483f21b"
   }
  }
 },
 "nbformat": 4,
 "nbformat_minor": 4
}
