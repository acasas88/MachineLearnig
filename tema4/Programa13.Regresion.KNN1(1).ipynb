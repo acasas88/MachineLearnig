{
 "cells": [
  {
   "cell_type": "code",
   "execution_count": 46,
   "metadata": {},
   "outputs": [],
   "source": [
    "import numpy as np\n",
    "from math import sqrt\n",
    "from sklearn import datasets, linear_model, metrics\n",
    "from pprint import pprint\n",
    "from sklearn.metrics import make_scorer, r2_score\n",
    "from sklearn.model_selection import cross_val_predict, cross_val_score, cross_validate, train_test_split, KFold\n",
    "from sklearn import preprocessing\n",
    "from sklearn.neighbors import KNeighborsRegressor\n",
    "from sklearn.preprocessing import StandardScaler\n",
    "from sklearn.feature_selection import SelectPercentile, f_regression\n",
    "import matplotlib.pyplot as plt\n",
    "import warnings\n",
    "warnings.filterwarnings(\"ignore\")"
   ]
  },
  {
   "cell_type": "code",
   "execution_count": 3,
   "metadata": {},
   "outputs": [
    {
     "name": "stdout",
     "output_type": "stream",
     "text": [
      "(506, 13)\n"
     ]
    }
   ],
   "source": [
    "# Carga de datos.\n",
    "dataset = datasets.load_boston()\n",
    "X = dataset.data\n",
    "y = dataset.target\n",
    "print(np.shape(X))"
   ]
  },
  {
   "cell_type": "code",
   "execution_count": 4,
   "metadata": {},
   "outputs": [],
   "source": [
    "# Métricas de evaluación.\n",
    "metricas = {'MAE':  'neg_mean_absolute_error',\n",
    "            'RMSE': make_scorer(lambda y, y_pred:\n",
    "                      sqrt(metrics.mean_squared_error(y, y_pred)),\n",
    "                      greater_is_better=False),\n",
    "            'MAPE': make_scorer(lambda y, y_pred:\n",
    "                      np.mean(np.abs((y - y_pred) / y)) * 100,\n",
    "                      greater_is_better=False),\n",
    "            'R2' :'r2'}\n",
    "            "
   ]
  },
  {
   "cell_type": "markdown",
   "metadata": {},
   "source": [
    "### 1) PARTICIÓN EXTERNA DE DATOS"
   ]
  },
  {
   "cell_type": "code",
   "execution_count": 5,
   "metadata": {},
   "outputs": [
    {
     "name": "stdout",
     "output_type": "stream",
     "text": [
      "(404, 13)\n",
      "(102, 13)\n"
     ]
    }
   ],
   "source": [
    "# 1) Partición de datos externa\n",
    "X_training, X_testing, y_training, y_testing = train_test_split(X, y, test_size=0.2, random_state=42)\n",
    "print(np.shape(X_training))\n",
    "print(np.shape(X_testing))"
   ]
  },
  {
   "cell_type": "markdown",
   "metadata": {},
   "source": [
    "### 2-5) ENTRENAMIENTO"
   ]
  },
  {
   "cell_type": "code",
   "execution_count": 6,
   "metadata": {},
   "outputs": [
    {
     "data": {
      "text/plain": [
       "array([[1.50234e+01, 0.00000e+00, 1.81000e+01, ..., 2.02000e+01,\n",
       "        3.49480e+02, 2.49100e+01],\n",
       "       [6.27390e-01, 0.00000e+00, 8.14000e+00, ..., 2.10000e+01,\n",
       "        3.95620e+02, 8.47000e+00],\n",
       "       [3.46600e-02, 3.50000e+01, 6.06000e+00, ..., 1.69000e+01,\n",
       "        3.62250e+02, 7.83000e+00],\n",
       "       ...,\n",
       "       [1.50100e-02, 8.00000e+01, 2.01000e+00, ..., 1.70000e+01,\n",
       "        3.90940e+02, 5.99000e+00],\n",
       "       [1.11604e+01, 0.00000e+00, 1.81000e+01, ..., 2.02000e+01,\n",
       "        1.09850e+02, 2.32700e+01],\n",
       "       [2.28760e-01, 0.00000e+00, 8.56000e+00, ..., 2.09000e+01,\n",
       "        7.08000e+01, 1.06300e+01]])"
      ]
     },
     "metadata": {},
     "output_type": "display_data"
    }
   ],
   "source": [
    "# 2) Extracción de características\n",
    "#No necesario no estámos trabajando con imagnes\n",
    "# 3) Selección de atributos\n",
    "\n"
   ]
  },
  {
   "cell_type": "code",
   "execution_count": 7,
   "metadata": {},
   "outputs": [],
   "source": [
    "# 4) Estandarización de los datos de entrenamiento\n",
    "standardizer = preprocessing.StandardScaler()\n",
    "X_stdr = standardizer.fit_transform(X_training)"
   ]
  },
  {
   "cell_type": "code",
   "execution_count": 17,
   "metadata": {},
   "outputs": [],
   "source": [
    "# 5) Construcción del algoritmo de aprendizaje.\n",
    "k = 12\n",
    "reg = KNeighborsRegressor(n_neighbors = k, weights='distance', metric='euclidean')"
   ]
  },
  {
   "cell_type": "code",
   "execution_count": 21,
   "metadata": {},
   "outputs": [
    {
     "name": "stdout",
     "output_type": "stream",
     "text": [
      "cross_val_R2:   0.7261 +/- 0.1065\n"
     ]
    }
   ],
   "source": [
    "# 5.1) Validación cruzada interna\n",
    "\n",
    "# Extraer MEAN +- STD del coeficiente de determinación (R2) para un cross validation de 5 bolsas aleatorias y semilla en 42\n",
    "r2_cv_results = cross_val_score(reg, X_stdr, y_training, \n",
    "                                    cv = KFold(n_splits=5, shuffle=True, random_state=42))\n",
    "print(\"cross_val_R2:   %0.4f +/- %0.4f\" % (r2_cv_results.mean() , r2_cv_results.std()))\n",
    "\n"
   ]
  },
  {
   "cell_type": "code",
   "execution_count": 19,
   "metadata": {},
   "outputs": [
    {
     "name": "stdout",
     "output_type": "stream",
     "text": [
      "{'fit_time': array([0.00099611, 0.00104237, 0.00105071, 0.00090361, 0.00214434]), 'score_time': array([0.00250697, 0.00215244, 0.00113225, 0.00150251, 0.00324368]), 'test_MAE': array([-3.32875419, -3.24210265, -3.45710257, -3.20069402, -2.30943423]), 'test_RMSE': array([-5.22991236, -4.77386492, -6.07769489, -4.41703997, -3.20098826]), 'test_MAPE': array([-15.78336529, -13.941805  , -14.6171022 , -14.5951631 ,\n",
      "       -11.97347908]), 'test_R2': array([0.61530205, 0.76796163, 0.58422895, 0.81757279, 0.84537973])}\n"
     ]
    }
   ],
   "source": [
    "print(r2_cv_results)"
   ]
  },
  {
   "cell_type": "code",
   "execution_count": 22,
   "metadata": {},
   "outputs": [
    {
     "name": "stdout",
     "output_type": "stream",
     "text": [
      "cross_val_test_MAE:   -3.1076 +/- 0.4086\n",
      "cross_val_test_RMSE:   -4.7399 +/- 0.9490\n",
      "cross_val_test_MAPE:   -14.1822 +/- 1.2538\n"
     ]
    }
   ],
   "source": [
    "# Extraer métricas MAE, MSE, RMSE y MAPE en un cross validation para 5 bolsas aleatorias y semilla en 42\n",
    "metrics_cv_results = cross_validate(reg, X_stdr, y_training, \n",
    "                                    cv = KFold(n_splits=5, shuffle=True, random_state=42), scoring=metricas)\n",
    "\n",
    "\n",
    "print(\"cross_val_test_MAE:   %0.4f +/- %0.4f\" % (np.mean(metrics_cv_results['test_MAE']), np.std(metrics_cv_results['test_MAE'])))\n",
    "print(\"cross_val_test_RMSE:   %0.4f +/- %0.4f\" % (np.mean(metrics_cv_results['test_RMSE']), np.std(metrics_cv_results['test_RMSE'])))\n",
    "print(\"cross_val_test_MAPE:   %0.4f +/- %0.4f\" % (np.mean(metrics_cv_results['test_MAPE']), np.std(metrics_cv_results['test_MAPE'])))\n"
   ]
  },
  {
   "cell_type": "code",
   "execution_count": 24,
   "metadata": {},
   "outputs": [
    {
     "name": "stdout",
     "output_type": "stream",
     "text": [
      "[11.44367099 19.81700467 22.68715488 11.09576363 18.39883607 23.33367011\n",
      " 21.26250262 25.47931907 11.19955604 12.94570481 22.01938209 26.18560007\n",
      " 30.0460621  13.55079085 36.62191054 16.9688652  20.45062146 26.18565712\n",
      " 19.74162817 24.5668365  11.28724201 19.87653729 23.53349521 21.4155484\n",
      " 25.85234797 31.45780245 21.66227391 38.93020145 18.41111062 23.10292191\n",
      " 18.10698956 19.74012486 15.68183159 13.27646148 21.21189656 27.77031066\n",
      " 27.04238669 17.54499622 18.02066491 25.33420425 24.92324319 20.45808186\n",
      " 10.85732897 22.61035447 22.0941567  14.18940086 17.15330255 41.62718008\n",
      " 14.18480701 16.23199633 25.49173957 20.46167657 21.76451422 21.59275996\n",
      " 18.78130439 17.14509077 28.01438755 10.61877517 24.51598608 20.24164531\n",
      " 20.63776317 21.66093264 26.82040858 19.23912777 42.95919054 14.67998487\n",
      " 16.63445754 20.50944856 16.68289624 19.86617987 21.6823512  30.02922378\n",
      " 18.69363996 20.44209755 20.97131763 26.58747406 29.20103624 23.95838996\n",
      " 15.60815451  9.59277254 11.71341515 25.77427334 29.53836999 30.39741695\n",
      " 12.58330658 16.60458148 24.93969863 22.81498621 18.5658432  24.59565566\n",
      " 20.15005782 15.48622678 10.2657899  29.40652433 25.05443671 18.63905\n",
      " 14.19389229 18.02415504 23.89614036 20.6147187  30.18577662 29.50054659\n",
      " 23.45476435 22.20826408 24.17524096 38.48649239 30.10330573 34.03642399\n",
      " 24.14440549 22.61716959 12.60706387 29.86794387 19.57439558 32.06933023\n",
      " 25.13838818 21.11354413 26.35416405 11.08909476 36.58102553 35.36819945\n",
      " 32.30708249 10.47115906 16.99596979 21.14889946 32.49481736 17.02820653\n",
      " 19.52406516 20.45908616 23.97449441 12.67772277 21.07944872 21.98331012\n",
      " 31.3295928  34.07061079 21.46806692 34.22195236 20.81864114 27.2260039\n",
      " 25.44688376 19.69285599 26.21637013 13.01808877 23.52618254 21.83312482\n",
      " 21.00342821 11.10988122 19.75002614 24.47299415 21.97180996 20.07534678\n",
      " 22.39830108 13.57503366 30.24792304 24.17826359 31.11458052 13.00310569\n",
      " 18.35213802 14.0084499  14.00772384 13.05653841 26.34863177 16.93661149\n",
      " 14.73118087 25.06460199 17.15197383 23.70227058 28.37006655 36.97145916\n",
      " 26.2005007  18.49578081 29.0075848  32.39812419 22.38457874 20.64223843\n",
      " 25.23106315 24.70736659 10.89985418 12.3469015  23.77442593 18.93121123\n",
      " 27.48814035 25.3391668  18.03423091 26.80068422 18.2329699  12.9708984\n",
      " 29.60634269 22.35869123 10.32560815 20.95387902 27.04371679 21.60362798\n",
      " 22.96705384 26.7885175  10.36567024 19.70926048 31.40327638 21.05599726\n",
      " 22.55724216 21.34837422 20.99199281 12.61211323 39.99487157 22.2234757\n",
      " 23.18923341 16.98376198 30.77057076 36.99060834 42.50135723 20.06165311\n",
      " 18.30245989 23.14277661 39.47439631 10.85072166 20.0461066  18.18984602\n",
      " 25.87364128 11.50906839 19.82886978  9.53712801 14.62447004 18.34564709\n",
      " 17.56440052 22.53473143 21.9638496  25.50393132 34.18128406 25.912391\n",
      " 21.65530172 36.39712529 11.4901147  27.13389991 20.61856581 21.38497223\n",
      " 18.75609457 22.36953734 17.93354628 13.61268153 25.95108634 24.17973728\n",
      " 28.19115275 21.83119443 23.2732686  13.84841479 12.16850441 28.73098407\n",
      " 25.33577025 10.6173335  15.68641421 22.76086947 33.46940071 23.16256074\n",
      " 11.4037325  29.29295805 30.87383383 14.00971025 20.2853375  40.87634462\n",
      " 13.73216148 22.56272183 13.71875137 22.74106044 36.52821193 30.66767089\n",
      " 22.35264926 19.7494242  21.88609776 15.72730059 39.80984631 21.41151196\n",
      " 30.45443259 15.93085583 16.89497969 16.25760728 22.95376146 35.33913045\n",
      " 23.6974335  36.10525681 10.9498162  18.10658664 21.65250267 17.54184614\n",
      " 17.9415458  19.17453956 19.16662344 22.78547221 19.88988852 26.38764617\n",
      " 28.90879719 18.23908498 18.56839793 32.00417118 12.05569781 20.50068788\n",
      " 16.03516902 24.27499191 29.89196218 11.29581597 22.11640421 20.26173861\n",
      " 29.70584667 19.53963239 26.73193533 24.33811242 17.27497379 25.03798421\n",
      " 21.37469376 20.19489708 29.6487668  25.77004211 27.5631995  25.01026749\n",
      " 33.77603747 24.25840841 22.72289342 13.05093053 28.43900703 20.53610525\n",
      " 35.11861036 18.2066845  22.98698777 13.339225   25.02115969 15.3864397\n",
      " 15.96238547 19.76125317 11.76393332 26.43265714 22.29636783 15.90299455\n",
      " 14.02680796 36.49611486 11.55529699 20.61411518 26.29009624 20.92043778\n",
      " 17.30436227 24.70042    21.33539914 35.78536785 21.22245956 19.81625612\n",
      " 20.64788993 31.4937752   9.97383729 30.8754626  39.50888715 22.52927092\n",
      " 20.17041439 16.88671243 33.62620995 19.42593862 21.81554559 25.5532176\n",
      " 22.97349355 19.49327298 20.65895755 18.02642079 24.13989132 11.36346646\n",
      " 30.94689167 17.8027854  17.49459936 30.16795647 24.79501886 23.08100002\n",
      " 18.22487636 28.14515923 22.93148647 26.19635764 17.16790691 22.85060781\n",
      " 18.16982034 29.01079446 32.09081187 14.85390106 31.1261201   9.35181713\n",
      " 24.12228345 12.65225116 26.38950531 41.36948805 24.44381133 18.63662042\n",
      " 17.55615199 19.10222865 17.29547135 34.87976391 20.95136217 24.26931159\n",
      " 17.20831319 21.98266146 21.43578805 12.69297429 19.68648869 20.53644128\n",
      " 17.2444116  30.47067091 23.61915582 18.24371105 21.75868841 25.29914172\n",
      " 12.78585389 16.47462534]\n"
     ]
    }
   ],
   "source": [
    "# Extraer las predicciones del cross validation de 5 bolsas aleatorias y semilla en 42\n",
    "y_pred = cross_val_predict(reg, X_stdr, y_training, \n",
    "                                    cv = KFold(n_splits=5, shuffle=True, random_state=42))\n",
    "\n",
    "print(y_pred)"
   ]
  },
  {
   "cell_type": "code",
   "execution_count": 25,
   "metadata": {},
   "outputs": [
    {
     "data": {
      "image/png": "[encoded data removed]",
      "text/plain": [
       "<Figure size 432x288 with 2 Axes>"
      ]
     },
     "metadata": {
      "needs_background": "light"
     },
     "output_type": "display_data"
    }
   ],
   "source": [
    "# Crear una función que dadas las variables \"y\" e \"y_pred\" se visualice la bisectriz y la recta de regresión\n",
    "def report_regression_graphics(y_true, y_pred):\n",
    "    fig, ax = plt.subplots(2,1)\n",
    "\n",
    "    # Plot linear fit\n",
    "    ax[0].scatter(y_true, y_pred)\n",
    "    ax[0].set_ylabel('y_pred')\n",
    "    ax[0].set_title('Regression line')\n",
    "    ax[0].grid()\n",
    "    # overlay the regression line\n",
    "    z = np.polyfit(np.float64(y_true), y_pred, 1)\n",
    "    p = np.poly1d(z)\n",
    "    ax[0].plot(y_true, p(y_true), color='magenta')\n",
    "\n",
    "    # Plot bisectriz\n",
    "    ax[1].scatter(y_true, y_pred, edgecolors=(0, 0, 0))\n",
    "    ax[1].set_xlabel('y_true')\n",
    "    ax[1].set_ylabel('y_pred')\n",
    "    ax[1].set_title('Bisector')\n",
    "    ax[1].plot([y_true.min(), y_true.max()], [y_true.min(), y_true.max()], 'k--', lw=4)\n",
    "    ax[1].grid()\n",
    "\n",
    "# Visualiza la bisetriz y recta de regresión\n",
    "report_regression_graphics(y_training,y_pred)"
   ]
  },
  {
   "cell_type": "code",
   "execution_count": 26,
   "metadata": {},
   "outputs": [],
   "source": [
    "# 5.2) Entrenamiento del modelo definitivo\n",
    "model = reg.fit(X_stdr, y_training)"
   ]
  },
  {
   "cell_type": "markdown",
   "metadata": {},
   "source": [
    "### 6-10) PREDICCIÓN"
   ]
  },
  {
   "cell_type": "code",
   "execution_count": null,
   "metadata": {},
   "outputs": [],
   "source": [
    "# 6) Extracción de las características de test\n",
    "# 7) Selección de los atributos de test "
   ]
  },
  {
   "cell_type": "code",
   "execution_count": 27,
   "metadata": {},
   "outputs": [],
   "source": [
    "# 8) Estandarización de las característiacs de test\n",
    "X_test_stdr = standardizer.transform(X_testing)"
   ]
  },
  {
   "cell_type": "code",
   "execution_count": 28,
   "metadata": {},
   "outputs": [],
   "source": [
    "# 9) Predicción del conjunto de test\n",
    "y_pred_test = model.predict(X_test_stdr)"
   ]
  },
  {
   "cell_type": "code",
   "execution_count": 29,
   "metadata": {},
   "outputs": [
    {
     "name": "stdout",
     "output_type": "stream",
     "text": [
      "MAE:  2.6634\n",
      "MSE: 22.6163\n",
      "RMSE: 4.7557\n",
      "R2:   0.6916\n"
     ]
    },
    {
     "data": {
      "image/png": "[encoded data removed]",
      "text/plain": [
       "<Figure size 432x288 with 2 Axes>"
      ]
     },
     "metadata": {
      "needs_background": "light"
     },
     "output_type": "display_data"
    }
   ],
   "source": [
    "# 10) Evaluación del modelo sobre el conjunto de test\n",
    "MAE = metrics.mean_absolute_error(y_testing, y_pred_test)\n",
    "MSE = metrics.mean_squared_error(y_testing, y_pred_test, squared=True)\n",
    "RMSE = metrics.mean_squared_error(y_testing, y_pred_test, squared=False)\n",
    "R2 = metrics.r2_score(y_testing, y_pred_test)\n",
    "\n",
    "print('MAE:  %.4f' % MAE)\n",
    "print('MSE: %.4f' % MSE)\n",
    "print('RMSE: %.4f' % RMSE)\n",
    "print('R2:   %.4f' % R2)\n",
    "\n",
    "# Visualización de resultados\n",
    "report_regression_graphics(y_testing, y_pred_test)"
   ]
  },
  {
   "cell_type": "markdown",
   "metadata": {},
   "source": [
    "### ACTIVIDAD EXTRA"
   ]
  },
  {
   "cell_type": "markdown",
   "metadata": {},
   "source": [
    "#### Entrenar el mejor modelo posible con el algoritmo KNN y comparar el resultado con el modelo OLS en test"
   ]
  },
  {
   "cell_type": "code",
   "execution_count": 36,
   "metadata": {},
   "outputs": [
    {
     "data": {
      "text/plain": [
       "{'metric': 'euclidean', 'n_neighbors': 2, 'weights': 'distance'}"
      ]
     },
     "execution_count": 36,
     "metadata": {},
     "output_type": "execute_result"
    }
   ],
   "source": [
    "from sklearn.model_selection import GridSearchCV\n",
    "# Definir parámetros de búsqueda\n",
    "lista_c = [1] + list(range(5,200,5))  #Lista con valores de C que quiero validar. Comienza en 1, termina en 200 con saltos de 5 números.\n",
    "\n",
    "parametros= {'n_neighbors': np.arange(1,15) , \n",
    "             'weights':('uniform', 'distance'),\n",
    "             'metric':('euclidean', 'manhattan','cosine')\n",
    "             }\n",
    "\n",
    "# Aplicar el algoritmo de búsqueda\n",
    "grid_SVR = GridSearchCV(estimator=KNeighborsRegressor(), #tipo de algoritmo SVR\n",
    "                        param_grid = parametros, #parametros que queremos evaluar\n",
    "                        cv = 5,     #Validación cruzada\n",
    "                        n_jobs=-1, \n",
    "                        scoring='r2')\n",
    "\n",
    "# Entrenar el modelo\n",
    "grid_SVR.fit(X_stdr, y_training)\n",
    "\n",
    "# Extraer los mejores parámetros\n",
    "grid_SVR.best_params_\n",
    "\n",
    "#print(grid_SVR.best_params_)"
   ]
  },
  {
   "cell_type": "code",
   "execution_count": 40,
   "metadata": {},
   "outputs": [
    {
     "name": "stdout",
     "output_type": "stream",
     "text": [
      " Results from Grid Search \n",
      "\n",
      " The best estimator across ALL searched params:\n",
      " KNeighborsRegressor(metric='euclidean', n_neighbors=2, weights='distance')\n",
      "\n",
      " The best score across ALL searched params:\n",
      " 0.8223351721007702\n",
      "\n",
      " The best parameters across ALL searched params:\n",
      " {'metric': 'euclidean', 'n_neighbors': 2, 'weights': 'distance'}\n",
      "mean: 0.8223351721007702 +- 0.03973415143094505\n"
     ]
    }
   ],
   "source": [
    "print(\" Results from Grid Search \" )\n",
    "print(\"\\n The best estimator across ALL searched params:\\n\",grid_SVR.best_estimator_)\n",
    "print(\"\\n The best score across ALL searched params:\\n\",grid_SVR.best_score_)\n",
    "print(\"\\n The best parameters across ALL searched params:\\n\",grid_SVR.best_params_)\n",
    "\n",
    "\n",
    "\n",
    "bestiter = grid_SVR.best_index_\n",
    "mean_r2=grid_SVR.cv_results_['mean_test_score'][bestiter]\n",
    "std_r2=grid_SVR.cv_results_['std_test_score'][bestiter]\n",
    "\n",
    "print(f'best R2: {mean_r2} +- {std_r2}')"
   ]
  },
  {
   "cell_type": "code",
   "execution_count": null,
   "metadata": {},
   "outputs": [],
   "source": [
    "# Entrenar cada algoritmo y comparar los resultados (a nivel cuantitativo y cualitativo) sobre el conjunto de test\n",
    "???"
   ]
  },
  {
   "cell_type": "code",
   "execution_count": 60,
   "metadata": {},
   "outputs": [],
   "source": [
    "# OPTIMIZACION de HYPERPARAMETROS\n",
    "parameters = {'OLS':{'normalize':(True, False)},\n",
    "                'Lasso' : {'alpha':(0.1,0.2,0.3,0.4,0.5,1,5,6,7,8,9,10,50,100)},\n",
    "                'Ridge' : {'alpha':(0.1,0.2,0.3,0.4,0.5,1,5,6,7,8,9,10,50,100)},\n",
    "                'KNN' : {'n_neighbors': np.arange(1,15) , \n",
    "                         'weights':('uniform', 'distance'),\n",
    "                         'metric':('euclidean', 'manhattan','cosine')}\n",
    "                }"
   ]
  },
  {
   "cell_type": "code",
   "execution_count": 54,
   "metadata": {},
   "outputs": [],
   "source": [
    "#Algoritmos\n",
    "algs = { 'OLS': linear_model.LinearRegression(),\n",
    "         'Lasso': linear_model.Lasso(random_state=42),\n",
    "         'Ridge': linear_model.Ridge(random_state=42),\n",
    "         'KNN': KNeighborsRegressor()   }\n"
   ]
  },
  {
   "cell_type": "code",
   "execution_count": 61,
   "metadata": {},
   "outputs": [
    {
     "name": "stdout",
     "output_type": "stream",
     "text": [
      "\n",
      " Algoritmo: OLS\n",
      "The best estimator across ALL searched params: LinearRegression(normalize=True)\n",
      "The best score across ALL searched params: 0.7184784187192006\n",
      "The best parameters across ALL searched params: {'normalize': True}\n",
      "\n",
      " Algoritmo: Lasso\n",
      "The best estimator across ALL searched params: Lasso(alpha=0.1, random_state=42)\n",
      "The best score across ALL searched params: 0.7119836127926977\n",
      "The best parameters across ALL searched params: {'alpha': 0.1}\n",
      "\n",
      " Algoritmo: Ridge\n",
      "The best estimator across ALL searched params: Ridge(alpha=5, random_state=42)\n",
      "The best score across ALL searched params: 0.7191218164937666\n",
      "The best parameters across ALL searched params: {'alpha': 5}\n",
      "\n",
      " Algoritmo: KNN\n",
      "The best estimator across ALL searched params: KNeighborsRegressor(metric='euclidean', n_neighbors=2, weights='distance')\n",
      "The best score across ALL searched params: 0.7468932048085164\n",
      "The best parameters across ALL searched params: {'metric': 'euclidean', 'n_neighbors': 2, 'weights': 'distance'}\n"
     ]
    }
   ],
   "source": [
    "from termcolor import colored\n",
    "model ={}\n",
    "\n",
    "for name, _ in algs.items():\n",
    "    print(colored('\\n Algoritmo: ' + name, 'blue'))\n",
    "    score = make_scorer(r2_score)\n",
    "    model_cv = GridSearchCV(algs[name], parameters[name], \n",
    "                            scoring=score,\n",
    "                            cv=KFold(n_splits=5, shuffle=True, random_state=42),\n",
    "                            #cv=5,\n",
    "                            return_train_score=True)\n",
    "    model[name] = model_cv.fit(X_stdr,y_training)\n",
    "\n",
    "    #cv_res = model[name].cv_results_\n",
    "\n",
    "    print(\"The best estimator across ALL searched params:\",model[name].best_estimator_)\n",
    "    print(\"The best score across ALL searched params:\",model[name].best_score_)\n",
    "    print(\"The best parameters across ALL searched params:\",model[name].best_params_)\n"
   ]
  }
 ],
 "metadata": {
  "kernelspec": {
   "display_name": "base",
   "language": "python",
   "name": "python3"
  },
  "language_info": {
   "codemirror_mode": {
    "name": "ipython",
    "version": 3
   },
   "file_extension": ".py",
   "mimetype": "text/x-python",
   "name": "python",
   "nbconvert_exporter": "python",
   "pygments_lexer": "ipython3",
   "version": "3.9.7"
  },
  "vscode": {
   "interpreter": {
    "hash": "9a65927f5967699fcd722c82a9c185cfa0040c4b95e3af20a6eefdab7483f21b"
   }
  }
 },
 "nbformat": 4,
 "nbformat_minor": 2
}
